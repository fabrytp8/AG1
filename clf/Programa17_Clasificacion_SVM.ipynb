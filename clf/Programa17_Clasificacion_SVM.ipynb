{
  "cells": [
    {
      "cell_type": "markdown",
      "metadata": {
        "id": "view-in-github",
        "colab_type": "text"
      },
      "source": [
        "<a href=\"https://colab.research.google.com/github/fabrytp8/AG1/blob/main/clf/Programa17_Clasificacion_SVM.ipynb\" target=\"_parent\"><img src=\"https://colab.research.google.com/assets/colab-badge.svg\" alt=\"Open In Colab\"/></a>"
      ]
    },
    {
      "cell_type": "code",
      "execution_count": null,
      "metadata": {
        "id": "glCfaknfUWIP"
      },
      "outputs": [],
      "source": [
        "import sklearn.metrics as metrics\n",
        "from sklearn.datasets import load_iris\n",
        "from sklearn.linear_model import LogisticRegression\n",
        "from sklearn.model_selection import cross_val_predict, cross_val_score, train_test_split, KFold\n",
        "from sklearn import preprocessing, svm\n",
        "from evaluacion_funciones import *\n",
        "\n",
        "from sklearn.dummy import DummyClassifier"
      ]
    },
    {
      "cell_type": "code",
      "execution_count": null,
      "metadata": {
        "id": "csc5wVXOUWIR",
        "outputId": "a5fbd999-c5e3-4384-a4fa-a5e4e440a70d"
      },
      "outputs": [
        {
          "name": "stdout",
          "output_type": "stream",
          "text": [
            "(150, 4)\n"
          ]
        }
      ],
      "source": [
        "# Carga de datos.\n",
        "datos = load_iris()\n",
        "X = datos.data\n",
        "y = datos.target\n",
        "print(np.shape(X))"
      ]
    },
    {
      "cell_type": "code",
      "execution_count": null,
      "metadata": {
        "id": "9T9v5txQUWIT"
      },
      "outputs": [],
      "source": [
        "# Métricas de evaluación.\n",
        "metricas = {\n",
        "  'ACC':    metrics.accuracy_score,\n",
        "  'PREC':   lambda y_true, y_pred:\n",
        "            metrics.precision_score(y_true, y_pred,\n",
        "              average='micro'),\n",
        "  'RECALL': lambda y_true, y_pred:\n",
        "            metrics.recall_score(y_true, y_pred,\n",
        "              average='micro'),\n",
        "  'F1':     lambda y_true, y_pred:\n",
        "            metrics.f1_score(y_true, y_pred, average='micro')}"
      ]
    },
    {
      "cell_type": "code",
      "execution_count": null,
      "metadata": {
        "id": "O853e5NRUWIU",
        "outputId": "de550204-ce35-4310-8dbd-2c267ddebc95"
      },
      "outputs": [
        {
          "name": "stdout",
          "output_type": "stream",
          "text": [
            "(120, 4)\n"
          ]
        }
      ],
      "source": [
        "# 1) Partición de datos externa\n",
        "X_training, X_testing, y_training, y_testing = train_test_split(X, y, test_size=0.2, random_state=42)\n",
        "print(np.shape(X_training))"
      ]
    },
    {
      "cell_type": "code",
      "execution_count": null,
      "metadata": {
        "id": "_nVXMsjrUWIW"
      },
      "outputs": [],
      "source": [
        "# ------------- TRAINING ---------------- #"
      ]
    },
    {
      "cell_type": "code",
      "execution_count": null,
      "metadata": {
        "id": "tFETc_OgUWIW"
      },
      "outputs": [],
      "source": [
        "# 2) Extracción de características"
      ]
    },
    {
      "cell_type": "code",
      "execution_count": null,
      "metadata": {
        "id": "lfGaKjqKUWIX"
      },
      "outputs": [],
      "source": [
        "# 3) Estandarización de los datos de entrenamiento\n",
        "standardizer = preprocessing.StandardScaler()\n",
        "stdr_trained = standardizer.fit(X_training)\n",
        "X_stdr = stdr_trained.transform(X_training)\n",
        "# print(X_stdr)"
      ]
    },
    {
      "cell_type": "code",
      "execution_count": null,
      "metadata": {
        "id": "kwCkvgXaUWIZ"
      },
      "outputs": [],
      "source": [
        "# 4) Selección de atributos"
      ]
    },
    {
      "cell_type": "code",
      "execution_count": null,
      "metadata": {
        "id": "VezcDIBQUWIZ"
      },
      "outputs": [],
      "source": [
        "# 5) Construcción del algoritmo de aprendizaje.\n",
        "algoritmos = {'SVM': svm.SVC(C=10, random_state=42, probability=True),\n",
        "             'DUMMY': DummyClassifier(strategy='stratified', random_state=42)}"
      ]
    },
    {
      "cell_type": "code",
      "execution_count": null,
      "metadata": {
        "id": "EVplWh1QUWIb",
        "outputId": "772e5c9f-8f36-40dc-f214-f2c2616cf92d"
      },
      "outputs": [
        {
          "name": "stdout",
          "output_type": "stream",
          "text": [
            "Accuracy:   0.9667 +/- 0.0553\n",
            "Accuracy:   0.3167 +/- 0.1333\n"
          ]
        }
      ],
      "source": [
        "# 5.1) Validación cruzada interna y Optimización de los hiperparámetros\n",
        "# y_pred = {}\n",
        "for nombre, alg in algoritmos.items():\n",
        "#     y_pred[nombre] = cross_val_predict(alg, X_stdr, y_training, cv=KFold(n_splits=10, shuffle=True, random_state=42))\n",
        "#     results = evaluacion(y_training, y_pred[nombre], metricas)\n",
        "#     print(metrics.confusion_matrix(y_training, y_pred[nombre]))\n",
        "\n",
        "    results = cross_val_score(alg, X_stdr, y_training, cv = KFold(n_splits=10, shuffle=True, random_state=42))\n",
        "    print(\"Accuracy:   %0.4f +/- %0.4f\" % (results.mean(), results.std()))"
      ]
    },
    {
      "cell_type": "code",
      "execution_count": null,
      "metadata": {
        "id": "zHDEZ8m0UWIc"
      },
      "outputs": [],
      "source": [
        "# 5.2) Entrenamiento del modelo definitivo\n",
        "models = {}\n",
        "for nombre, alg in algoritmos.items():\n",
        "    models[nombre] = alg.fit(X_stdr, y_training)"
      ]
    },
    {
      "cell_type": "code",
      "execution_count": null,
      "metadata": {
        "id": "b0nQf18UUWId"
      },
      "outputs": [],
      "source": [
        "# ------------- PREDICTION ---------------- #"
      ]
    },
    {
      "cell_type": "code",
      "execution_count": null,
      "metadata": {
        "id": "3He5g9VXUWId"
      },
      "outputs": [],
      "source": [
        "# 6) Extracción de las características de test"
      ]
    },
    {
      "cell_type": "code",
      "execution_count": null,
      "metadata": {
        "id": "Emfp-WLnUWIe"
      },
      "outputs": [],
      "source": [
        "# 7) Estandarización de las característiacs de test\n",
        "X_test_stdr = stdr_trained.transform(X_testing)"
      ]
    },
    {
      "cell_type": "code",
      "execution_count": null,
      "metadata": {
        "id": "sZNI_x-kUWIf"
      },
      "outputs": [],
      "source": [
        "# 8) Selección de los atributos de test "
      ]
    },
    {
      "cell_type": "code",
      "execution_count": null,
      "metadata": {
        "id": "-hbGGPSiUWIf",
        "outputId": "cee7b000-015e-4535-af89-bdd7fcede363"
      },
      "outputs": [
        {
          "name": "stdout",
          "output_type": "stream",
          "text": [
            "{'SVM': array([1, 0, 2, 1, 1, 0, 1, 2, 2, 1, 2, 0, 0, 0, 0, 1, 2, 1, 1, 2, 0, 2,\n",
            "       0, 2, 2, 2, 2, 2, 0, 0]), 'DUMMY': array([2, 0, 1, 1, 0, 2, 2, 0, 1, 1, 1, 2, 1, 1, 0, 2, 1, 1, 2, 0, 0, 1,\n",
            "       0, 1, 1, 0, 2, 2, 1, 0])}\n"
          ]
        }
      ],
      "source": [
        "# 9) Predicción del conjunto de test\n",
        "y_pred = {}\n",
        "for nombre, alg in models.items():\n",
        "    y_pred[nombre] = alg.predict(X_test_stdr)\n",
        "\n",
        "print(y_pred)"
      ]
    },
    {
      "cell_type": "code",
      "execution_count": null,
      "metadata": {
        "id": "c99xdcH3UWIg",
        "outputId": "a97bd7f7-e6de-4de2-fc3f-a97008d268ab"
      },
      "outputs": [
        {
          "name": "stdout",
          "output_type": "stream",
          "text": [
            "[[10  0  0]\n",
            " [ 0  8  1]\n",
            " [ 0  0 11]]\n",
            "[[5 3 2]\n",
            " [1 4 4]\n",
            " [3 6 2]]\n"
          ]
        }
      ],
      "source": [
        "# 10) Evaluación del modelo sobre el conjunto de test\n",
        "for nombre, alg in models.items():\n",
        "    print(metrics.confusion_matrix(y_testing, y_pred[nombre]))"
      ]
    },
    {
      "cell_type": "code",
      "execution_count": null,
      "metadata": {
        "id": "-vzYnftiUWIh",
        "outputId": "1cba3351-1d29-4e2d-a5d6-affcfe8adff0"
      },
      "outputs": [
        {
          "data": {
            "image/png": "[encoded data removed]",
            "text/plain": [
              "<Figure size 432x288 with 1 Axes>"
            ]
          },
          "metadata": {
            "needs_background": "light"
          },
          "output_type": "display_data"
        }
      ],
      "source": [
        "# Ploteamos la curva ROC\n",
        "y_proba_svm = models['SVM'].predict_proba(X_test_stdr) # \"predict_proba\" para extraer probabilidades vez de predicciones\n",
        "y_test_bin = preprocessing.label_binarize(y_testing, classes=[0,1,2]) # Usar \"label_binarize\" en el caso de problemas multiclase\n",
        "auc_svm = metrics.roc_auc_score(y_testing, y_proba_svm, multi_class='ovr') # Area Under the ROC curve (AUC)\n",
        "fpr_svm, tpr_svm, th_svm = metrics.roc_curve(y_test_bin[:,1], y_proba_svm[:,1])\n",
        "\n",
        "y_proba_dummy = models['DUMMY'].predict_proba(X_test_stdr) # \"predict_proba\" para extraer probabilidades vez de predicciones\n",
        "auc_dummy = metrics.roc_auc_score(y_testing, y_proba_dummy, multi_class='ovr') # Area Under the ROC curve (AUC)\n",
        "fpr_dummy, tpr_dummy, th = metrics.roc_curve(y_test_bin[:,1], y_proba_dummy[:,1])\n",
        "\n",
        "plt.plot(fpr_svm, tpr_svm)\n",
        "plt.plot(fpr_dummy, tpr_dummy)\n",
        "plt.xlabel('False positive rate')\n",
        "plt.ylabel('True positive rate')\n",
        "plt.title('AUC-SVM = ' + str(np.round(auc_svm,4)) + '   AUC-DUMMY = ' + str(np.round(auc_dummy,4)))\n",
        "plt.legend(['SVM', 'DUMMY'])\n",
        "plt.grid()\n",
        "plt.show()"
      ]
    },
    {
      "cell_type": "code",
      "execution_count": null,
      "metadata": {
        "id": "nSNmX085UWIi",
        "outputId": "4d9a7aba-6189-4b85-a31c-f2f89c36955c"
      },
      "outputs": [
        {
          "name": "stdout",
          "output_type": "stream",
          "text": [
            "              SVM    Dummy\n",
            "---------  ------  -------\n",
            "Precision  0.9722   0.3711\n",
            "Recall     0.963    0.3754\n",
            "F1-score   0.9659   0.3668\n",
            "Accuracy   0.9667   0.3667\n"
          ]
        }
      ],
      "source": [
        "# Tabla de resultados\n",
        "from tabulate import tabulate\n",
        "headers = ['','SVM', 'Dummy']\n",
        "P,S,FS,ACC = ['Precision'], ['Recall'], ['F1-score'], ['Accuracy']\n",
        "\n",
        "for nombre, alg in models.items():\n",
        "    P.append(np.round(metrics.precision_score(y_testing, y_pred[nombre], average='macro'),4))\n",
        "    S.append(np.round(metrics.recall_score(y_testing, y_pred[nombre], average='macro'),4))\n",
        "    FS.append(np.round(metrics.f1_score(y_testing, y_pred[nombre], average='macro'),4))\n",
        "    ACC.append(np.round(metrics.accuracy_score(y_testing, y_pred[nombre]),4))\n",
        "\n",
        "my_data = [tuple(P), tuple(S), tuple(FS), tuple(ACC)]\n",
        "print(tabulate(my_data, headers=headers))"
      ]
    },
    {
      "cell_type": "code",
      "execution_count": null,
      "metadata": {
        "id": "UZohFUzpUWIj"
      },
      "outputs": [],
      "source": [
        ""
      ]
    }
  ],
  "metadata": {
    "kernelspec": {
      "display_name": "Python 3 (ipykernel)",
      "language": "python",
      "name": "python3"
    },
    "language_info": {
      "codemirror_mode": {
        "name": "ipython",
        "version": 3
      },
      "file_extension": ".py",
      "mimetype": "text/x-python",
      "name": "python",
      "nbconvert_exporter": "python",
      "pygments_lexer": "ipython3",
      "version": "3.9.6"
    },
    "colab": {
      "name": "Programa17.Clasificacion.SVM(2) (3).ipynb",
      "provenance": [],
      "include_colab_link": true
    }
  },
  "nbformat": 4,
  "nbformat_minor": 0
}