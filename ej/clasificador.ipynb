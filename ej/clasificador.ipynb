{
  "cells": [
    {
      "cell_type": "markdown",
      "metadata": {
        "id": "view-in-github",
        "colab_type": "text"
      },
      "source": [
        "<a href=\"https://colab.research.google.com/github/fabrytp8/AG1/blob/main/ej/clasificador.ipynb\" target=\"_parent\"><img src=\"https://colab.research.google.com/assets/colab-badge.svg\" alt=\"Open In Colab\"/></a>"
      ]
    },
    {
      "cell_type": "code",
      "execution_count": null,
      "id": "278457c1-16fc-4e0e-b3f8-30c333549749",
      "metadata": {
        "id": "278457c1-16fc-4e0e-b3f8-30c333549749"
      },
      "outputs": [],
      "source": [
        "import os\n",
        "import cv2\n",
        "import matplotlib.pyplot as plt\n",
        "import numpy as np\n",
        "import pandas as pd\n",
        "\n",
        "import pickle\n",
        "from pprint import pprint\n",
        "from skimage.feature import hog\n",
        "\n",
        "from sklearn import preprocessing\n",
        "from sklearn.feature_selection import VarianceThreshold\n",
        "from sklearn.model_selection import cross_val_score, KFold\n",
        "from sklearn.ensemble import RandomForestClassifier\n",
        "\n"
      ]
    },
    {
      "cell_type": "code",
      "execution_count": null,
      "id": "412c07ac-54f3-414d-8a6a-01681a4b2027",
      "metadata": {
        "id": "412c07ac-54f3-414d-8a6a-01681a4b2027",
        "outputId": "dfd954ac-078e-4f54-963e-fa192aa26e99"
      },
      "outputs": [
        {
          "data": {
            "image/png": "[encoded data removed]",
            "text/plain": [
              "<Figure size 432x288 with 1 Axes>"
            ]
          },
          "metadata": {
            "needs_background": "light"
          },
          "output_type": "display_data"
        },
        {
          "data": {
            "image/png": "[encoded data removed]",
            "text/plain": [
              "<Figure size 432x288 with 1 Axes>"
            ]
          },
          "metadata": {
            "needs_background": "light"
          },
          "output_type": "display_data"
        }
      ],
      "source": [
        "#Carga de datos\n",
        "folder = os.listdir('train/')\n",
        "# print(folder)\n",
        "img=cv2.imread('train/'+ 'digit_0_10_0.png',0)\n",
        "# print(img)\n",
        "plt.imshow(img,cmap='gray')\n",
        "plt.show()\n",
        "img[img<255]=0\n",
        "plt.imshow(img,cmap='gray')\n",
        "plt.show()\n",
        "# print('xxxx')\n",
        "# print(img)"
      ]
    },
    {
      "cell_type": "code",
      "execution_count": null,
      "id": "7e5cee76-953d-49e2-a597-e26f5580c17d",
      "metadata": {
        "id": "7e5cee76-953d-49e2-a597-e26f5580c17d",
        "outputId": "cb4153ef-6f9d-4b60-9b2b-09e278b4882d"
      },
      "outputs": [
        {
          "name": "stdout",
          "output_type": "stream",
          "text": [
            "[   0    1    2 ... 1287 1288 1289]\n",
            "(1290, 16, 16)\n",
            "(1290,)\n",
            "0    int32\n",
            "dtype: object\n"
          ]
        }
      ],
      "source": [
        "print(np.arange(len(folder)))\n",
        "# pprint(img)\n",
        "images, target = [] , []\n",
        "for i in np.arange(len(folder)):\n",
        "    name = folder[i]#nombre de imagen\n",
        "    img = cv2.imread('train/'+ name,0)\n",
        "    img[img<255]=0\n",
        "    images.append(img)\n",
        "    \n",
        "    idx = name.find('_')\n",
        "    tgt = int(name[idx+1])\n",
        "    target.append(tgt)\n",
        "images = np.array(images)\n",
        "target = np.array(target)\n",
        "print(np.shape(images))\n",
        "print(np.shape(target))\n",
        "df = pd.DataFrame(target)\n",
        "print(df.dtypes)\n"
      ]
    },
    {
      "cell_type": "code",
      "execution_count": null,
      "id": "89097c72-3272-4a04-8629-446d2b351cb7",
      "metadata": {
        "id": "89097c72-3272-4a04-8629-446d2b351cb7",
        "outputId": "5df705de-f9a5-497c-fce6-f6f9c15dff65"
      },
      "outputs": [
        {
          "data": {
            "image/png": "[encoded data removed]",
            "text/plain": [
              "<Figure size 432x288 with 1 Axes>"
            ]
          },
          "metadata": {
            "needs_background": "light"
          },
          "output_type": "display_data"
        }
      ],
      "source": [
        "# Exploración de los datos\n",
        "img = images[195]\n",
        "plt.imshow(img,cmap='gray')\n",
        "plt.title('label: '+ str(target[195]))\n",
        "plt.show()"
      ]
    },
    {
      "cell_type": "code",
      "execution_count": null,
      "id": "5fa7266c-965e-4108-86f0-9d3317bfd8cd",
      "metadata": {
        "id": "5fa7266c-965e-4108-86f0-9d3317bfd8cd",
        "outputId": "5c7dc33c-c0f6-4c7e-fbf4-73b40df0a711"
      },
      "outputs": [
        {
          "name": "stdout",
          "output_type": "stream",
          "text": [
            "[0 1 2 3 4 5 6 7 8 9] [129 129 129 129 129 129 129 129 129 129]\n"
          ]
        }
      ],
      "source": [
        "# Comprobar si están balanceados\n",
        "val, frec = np.unique(target,return_counts=True)\n",
        "print(val,frec)"
      ]
    },
    {
      "cell_type": "code",
      "execution_count": null,
      "id": "2cba66bf-5293-40ea-83c0-7e100615923d",
      "metadata": {
        "id": "2cba66bf-5293-40ea-83c0-7e100615923d",
        "outputId": "c0e41095-141a-40a0-a5cb-1ead4c66b742"
      },
      "outputs": [
        {
          "name": "stdout",
          "output_type": "stream",
          "text": [
            "(1290, 324)\n",
            "(1290,)\n"
          ]
        }
      ],
      "source": [
        "# 1) Extarcción de características\n",
        "X_train = []\n",
        "y_train = target\n",
        "for i in np.arange(len(folder)):\n",
        "    features = hog(images[i],orientations=9, pixels_per_cell=(4,4), cells_per_block=(2,2),\n",
        "                  transform_sqrt = True, block_norm='L1')\n",
        "    X_train.append(features)\n",
        "\n",
        "X_train = np.array(X_train)\n",
        "print(np.shape(X_train)) \n",
        "print(np.shape(y_train))\n",
        "# print(X_train)"
      ]
    },
    {
      "cell_type": "code",
      "execution_count": null,
      "id": "b7021e99-5a00-4479-b0ca-dde5aaeda327",
      "metadata": {
        "id": "b7021e99-5a00-4479-b0ca-dde5aaeda327",
        "outputId": "93640a29-ae01-439f-c60f-165d1ebbe2d5"
      },
      "outputs": [
        {
          "name": "stdout",
          "output_type": "stream",
          "text": [
            "(1290, 324)\n"
          ]
        }
      ],
      "source": [
        "# 2) Estandarización de los atributos\n",
        "std = preprocessing.StandardScaler()\n",
        "X_std = std.fit_transform(X_train)\n",
        "print(np.shape(X_std))\n",
        "\n",
        "# Guardar el estandarizador\n",
        "with open('objetos/estandarizador.pickle','wb') as fw:\n",
        "    pickle.dump(std,fw)"
      ]
    },
    {
      "cell_type": "code",
      "execution_count": null,
      "id": "9a637a3a-77fc-4241-bd4c-9c68d941a667",
      "metadata": {
        "id": "9a637a3a-77fc-4241-bd4c-9c68d941a667",
        "outputId": "22690f06-97b8-43a6-a3cb-78fd43f8b946"
      },
      "outputs": [
        {
          "name": "stdout",
          "output_type": "stream",
          "text": [
            "(1290, 144)\n"
          ]
        }
      ],
      "source": [
        "# 3) Selección de características\n",
        "th = 0.0001\n",
        "sel = VarianceThreshold(th)\n",
        "X_train_sel = sel.fit_transform(X_std)\n",
        "print(np.shape(X_train_sel))\n",
        "# print(X_train_sel)\n",
        "\n",
        "# Guardar el selector\n",
        "with open('objetos/selector.pickle','wb') as fw:\n",
        "    pickle.dump(sel,fw)"
      ]
    },
    {
      "cell_type": "code",
      "execution_count": null,
      "id": "90965afb-b016-4e65-819e-a1467f5bca3b",
      "metadata": {
        "id": "90965afb-b016-4e65-819e-a1467f5bca3b",
        "outputId": "b6c31128-1c3f-452f-97dd-1684af85d90b"
      },
      "outputs": [
        {
          "name": "stdout",
          "output_type": "stream",
          "text": [
            "Accuracy (media +/- desv.): 0.9364\n"
          ]
        }
      ],
      "source": [
        "# 4) Entrenamiento mediante cross-validation\n",
        "clf = RandomForestClassifier(n_estimators = 200, criterion = 'gini', max_depth = None, random_state=42,\n",
        "                            min_samples_split = 2, min_samples_leaf = 1, min_weight_fraction_leaf = 0.0, max_features='auto',\n",
        "                            max_leaf_nodes=None, min_impurity_decrease=0, bootstrap = False)\n",
        "results = cross_val_score(clf, X_train_sel, y_train, cv = KFold(n_splits = 5, shuffle = True, random_state = 42))\n",
        "\n",
        "# Plotear resultados en terminos de media y desviación estandar\n",
        "# print('Accuracy (media +/- desv.): %0.4f' % (results.mean(),results.std()))\n",
        "print('Accuracy (media +/- desv.): %0.4f' % (results.mean()))"
      ]
    },
    {
      "cell_type": "code",
      "execution_count": null,
      "id": "1b2b66dc-6a48-4751-ae55-190559e29871",
      "metadata": {
        "id": "1b2b66dc-6a48-4751-ae55-190559e29871"
      },
      "outputs": [],
      "source": [
        "# 4.1) Entrenamiento definitivo\n",
        "final_clf = clf.fit(X_train_sel, y_train)\n",
        "\n",
        "# Guardar modelo final\n",
        "with open('objetos/clasificador.pickle','wb') as fw:\n",
        "    pickle.dump(final_clf, fw)"
      ]
    },
    {
      "cell_type": "code",
      "execution_count": null,
      "id": "c1522253-c40d-4b9a-b6e7-b15388a0772c",
      "metadata": {
        "id": "c1522253-c40d-4b9a-b6e7-b15388a0772c"
      },
      "outputs": [],
      "source": [
        ""
      ]
    }
  ],
  "metadata": {
    "kernelspec": {
      "display_name": "Python 3 (ipykernel)",
      "language": "python",
      "name": "python3"
    },
    "language_info": {
      "codemirror_mode": {
        "name": "ipython",
        "version": 3
      },
      "file_extension": ".py",
      "mimetype": "text/x-python",
      "name": "python",
      "nbconvert_exporter": "python",
      "pygments_lexer": "ipython3",
      "version": "3.9.6"
    },
    "colab": {
      "name": "clasificador (1).ipynb",
      "provenance": [],
      "include_colab_link": true
    }
  },
  "nbformat": 4,
  "nbformat_minor": 5
}