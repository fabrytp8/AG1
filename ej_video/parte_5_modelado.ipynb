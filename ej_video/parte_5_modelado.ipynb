{
  "cells": [
    {
      "cell_type": "markdown",
      "metadata": {
        "id": "view-in-github",
        "colab_type": "text"
      },
      "source": [
        "<a href=\"https://colab.research.google.com/github/fabrytp8/AG1/blob/main/ej_video/parte_5_modelado.ipynb\" target=\"_parent\"><img src=\"https://colab.research.google.com/assets/colab-badge.svg\" alt=\"Open In Colab\"/></a>"
      ]
    },
    {
      "cell_type": "code",
      "execution_count": null,
      "id": "e8fa40c2-f309-4fe3-a4fd-5e3a61d629be",
      "metadata": {
        "id": "e8fa40c2-f309-4fe3-a4fd-5e3a61d629be",
        "outputId": "cf6ec484-b780-4e56-a683-b6d8d39cdbf7"
      },
      "outputs": [
        {
          "name": "stdout",
          "output_type": "stream",
          "text": [
            "(77, 23)\n",
            "(77,)\n"
          ]
        }
      ],
      "source": [
        "# Cargar los datos de entrenamiento\n",
        "import numpy as np\n",
        "train = np.load('final_features/train.npy')\n",
        "\n",
        "X_train = train[:,:-1]\n",
        "y_train = train[:,-1]\n",
        "print(np.shape(X_train))\n",
        "print(np.shape(y_train))"
      ]
    },
    {
      "cell_type": "code",
      "execution_count": null,
      "id": "d1054dc1-a407-442a-bc20-59b836133fc4",
      "metadata": {
        "id": "d1054dc1-a407-442a-bc20-59b836133fc4",
        "outputId": "a18e9e83-226f-466e-d18a-b15ab174df44"
      },
      "outputs": [
        {
          "name": "stderr",
          "output_type": "stream",
          "text": [
            "c:\\users\\fabry\\appdata\\local\\programs\\python\\python39\\lib\\site-packages\\sklearn\\linear_model\\_sag.py:352: ConvergenceWarning: The max_iter was reached which means the coef_ did not converge\n",
            "  warnings.warn(\n",
            "c:\\users\\fabry\\appdata\\local\\programs\\python\\python39\\lib\\site-packages\\sklearn\\linear_model\\_sag.py:352: ConvergenceWarning: The max_iter was reached which means the coef_ did not converge\n",
            "  warnings.warn(\n",
            "c:\\users\\fabry\\appdata\\local\\programs\\python\\python39\\lib\\site-packages\\sklearn\\linear_model\\_sag.py:352: ConvergenceWarning: The max_iter was reached which means the coef_ did not converge\n",
            "  warnings.warn(\n",
            "c:\\users\\fabry\\appdata\\local\\programs\\python\\python39\\lib\\site-packages\\sklearn\\linear_model\\_sag.py:352: ConvergenceWarning: The max_iter was reached which means the coef_ did not converge\n",
            "  warnings.warn(\n",
            "c:\\users\\fabry\\appdata\\local\\programs\\python\\python39\\lib\\site-packages\\sklearn\\linear_model\\_sag.py:352: ConvergenceWarning: The max_iter was reached which means the coef_ did not converge\n",
            "  warnings.warn(\n"
          ]
        },
        {
          "name": "stdout",
          "output_type": "stream",
          "text": [
            "LOGR Accuracy: 0.6767 +/- 0.1288 \n",
            "MLP Accuracy: 0.6767 +/- 0.1288 \n"
          ]
        }
      ],
      "source": [
        "# Definir los modelos de clasificación\n",
        "from sklearn.linear_model import LogisticRegression\n",
        "from sklearn.neural_network import MLPClassifier\n",
        "                                                            #solver='lbfgs'  solver='adam' learning_rate='constant'\n",
        "algoritmos = {'LOGR': LogisticRegression(penalty='l2', solver='sag',max_iter=100, random_state=42),\n",
        "             'MLP': MLPClassifier(hidden_layer_sizes=[2,],activation='relu', solver='sgd',batch_size='auto', \n",
        "                                 learning_rate='constant', learning_rate_init=0.001, max_iter=1000, random_state=42)}\n",
        "\n",
        "# Cross-validatio interno en k=5 bolsas\n",
        "from sklearn.model_selection import cross_val_score,KFold\n",
        "\n",
        "results={}\n",
        "for nombre, alg in algoritmos.items():\n",
        "    results[nombre]= cross_val_score(alg, X_train,  y_train, cv=KFold(n_splits=5, shuffle=True, random_state=42))\n",
        "    print(nombre + ' Accuracy: %0.4f +/- %0.4f ' % (results[nombre].mean(), results[nombre].std()))"
      ]
    },
    {
      "cell_type": "code",
      "execution_count": null,
      "id": "57a67c7c-7df0-4e0e-8f80-9a391233c059",
      "metadata": {
        "id": "57a67c7c-7df0-4e0e-8f80-9a391233c059",
        "outputId": "5efac01a-4424-4bb1-9995-38bc1b8dbe78"
      },
      "outputs": [
        {
          "ename": "NameError",
          "evalue": "name 'LOGR' is not defined",
          "output_type": "error",
          "traceback": [
            "\u001b[1;31m---------------------------------------------------------------------------\u001b[0m",
            "\u001b[1;31mNameError\u001b[0m                                 Traceback (most recent call last)",
            "\u001b[1;32m~\\AppData\\Local\\Temp/ipykernel_22428/1281796200.py\u001b[0m in \u001b[0;36m<module>\u001b[1;34m\u001b[0m\n\u001b[0;32m      4\u001b[0m                                  learning_rate='constant', learning_rate_init=0.001, max_iter=10000, random_state=42)}\n\u001b[0;32m      5\u001b[0m \u001b[1;33m\u001b[0m\u001b[0m\n\u001b[1;32m----> 6\u001b[1;33m \u001b[0mLOGR\u001b[0m\u001b[1;33m.\u001b[0m\u001b[0mfit\u001b[0m\u001b[1;33m(\u001b[0m\u001b[0mX_train\u001b[0m\u001b[1;33m,\u001b[0m \u001b[0my_train\u001b[0m\u001b[1;33m)\u001b[0m\u001b[1;33m\u001b[0m\u001b[1;33m\u001b[0m\u001b[0m\n\u001b[0m\u001b[0;32m      7\u001b[0m \u001b[1;31m# MLP = MLP.fit(X_train, y_train)\u001b[0m\u001b[1;33m\u001b[0m\u001b[1;33m\u001b[0m\u001b[1;33m\u001b[0m\u001b[0m\n",
            "\u001b[1;31mNameError\u001b[0m: name 'LOGR' is not defined"
          ]
        }
      ],
      "source": [
        "#Definimos el modelo definitivo\n",
        "algoritmos = {'LOGR': LogisticRegression(penalty='l2', solver='sag',max_iter=200, random_state=42),\n",
        "             'MLP': MLPClassifier(hidden_layer_sizes=[2,],activation='relu', solver='sgd',batch_size='auto', \n",
        "                                 learning_rate='constant', learning_rate_init=0.001, max_iter=10000, random_state=42)}\n",
        "\n",
        "# LOGR = LOGR.fit(X_train, y_train)\n",
        "# MLP = MLP.fit(X_train, y_train)"
      ]
    },
    {
      "cell_type": "raw",
      "id": "1c60f3a9-ef45-4132-a09e-4329d9f090f6",
      "metadata": {
        "id": "1c60f3a9-ef45-4132-a09e-4329d9f090f6"
      },
      "source": [
        ""
      ]
    }
  ],
  "metadata": {
    "kernelspec": {
      "display_name": "Python 3 (ipykernel)",
      "language": "python",
      "name": "python3"
    },
    "language_info": {
      "codemirror_mode": {
        "name": "ipython",
        "version": 3
      },
      "file_extension": ".py",
      "mimetype": "text/x-python",
      "name": "python",
      "nbconvert_exporter": "python",
      "pygments_lexer": "ipython3",
      "version": "3.9.6"
    },
    "colab": {
      "name": "parte 5 modelado.ipynb",
      "provenance": [],
      "include_colab_link": true
    }
  },
  "nbformat": 4,
  "nbformat_minor": 5
}