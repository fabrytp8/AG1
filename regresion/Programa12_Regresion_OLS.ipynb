{
  "cells": [
    {
      "cell_type": "markdown",
      "metadata": {
        "id": "view-in-github",
        "colab_type": "text"
      },
      "source": [
        "<a href=\"https://colab.research.google.com/github/fabrytp8/AG1/blob/main/regresion/Programa12_Regresion_OLS.ipynb\" target=\"_parent\"><img src=\"https://colab.research.google.com/assets/colab-badge.svg\" alt=\"Open In Colab\"/></a>"
      ]
    },
    {
      "cell_type": "code",
      "execution_count": 1,
      "metadata": {
        "id": "CsXqeH9ePjwU"
      },
      "outputs": [],
      "source": [
        "import numpy as np\n",
        "from math import sqrt\n",
        "from pprint import pprint\n",
        "from sklearn import datasets, linear_model, metrics\n",
        "from sklearn.dummy import DummyRegressor\n",
        "from sklearn.model_selection import cross_validate, KFold, cross_val_predict, train_test_split, cross_val_score\n",
        "from sklearn import preprocessing\n",
        "from sklearn.metrics import make_scorer, mean_squared_error\n",
        "import matplotlib.pyplot as plt"
      ]
    },
    {
      "cell_type": "code",
      "execution_count": null,
      "metadata": {
        "id": "BR0UpV2qPjwY"
      },
      "outputs": [],
      "source": [
        "# Carga de datos.\n",
        "datos = datasets.load_boston()\n",
        "# print(datos)\n",
        "X = datos.data\n",
        "y = datos.target\n",
        "print('Dimensiones de X: ', np.shape(X))\n",
        "# print(y)"
      ]
    },
    {
      "cell_type": "code",
      "execution_count": 4,
      "metadata": {
        "id": "RGSG2IFUPjwb"
      },
      "outputs": [],
      "source": [
        "# Métricas de evaluación.\n",
        "metricas = {\n",
        "  'MAE': 'neg_mean_absolute_error',\n",
        "  'MSE': 'neg_mean_squared_error',\n",
        "  'RMSE': 'neg_root_mean_squared_error',\n",
        "  'R2':   'r2'\n",
        "}"
      ]
    },
    {
      "cell_type": "code",
      "execution_count": 5,
      "metadata": {
        "colab": {
          "base_uri": "https://localhost:8080/"
        },
        "id": "Vai12BvAPjwc",
        "outputId": "1779b8da-2c3e-4f69-a186-08bbaa81637c"
      },
      "outputs": [
        {
          "output_type": "stream",
          "name": "stdout",
          "text": [
            "(404, 13)\n"
          ]
        }
      ],
      "source": [
        "# Partición de datos externa\n",
        "X_training, X_testing, y_training, y_testing = train_test_split(X, y, test_size=0.2, random_state=42)\n",
        "print(np.shape(X_training))"
      ]
    },
    {
      "cell_type": "code",
      "execution_count": 6,
      "metadata": {
        "id": "tKNBTiCZPjwd"
      },
      "outputs": [],
      "source": [
        "# Estandarización de los datos de entrenamiento\n",
        "standardizer = preprocessing.StandardScaler()\n",
        "X_stdr = standardizer.fit_transform(X_training)"
      ]
    },
    {
      "cell_type": "code",
      "execution_count": 7,
      "metadata": {
        "id": "Rv7VNM95Pjwe"
      },
      "outputs": [],
      "source": [
        "# Construcción del algoritmo de aprendizaje.\n",
        "reg = linear_model.LinearRegression()"
      ]
    },
    {
      "cell_type": "code",
      "execution_count": 8,
      "metadata": {
        "id": "wSyRw780Pjwe"
      },
      "outputs": [],
      "source": [
        "# Extraer directamente resultados del error para cada bolsa, en lugar de las predicciones\n",
        "cross_val_results = cross_validate(reg, X_stdr, y_training, \n",
        "                                    cv = KFold(n_splits=5, shuffle=True, random_state=42), scoring=metricas)\n",
        "#print(\"cross_val_MAE:   %0.4f +/- %0.4f\" % (-cross_val_results.mean(), cross_val_results.std()))\n",
        "# pprint(cross_val_results)"
      ]
    },
    {
      "cell_type": "code",
      "execution_count": 9,
      "metadata": {
        "colab": {
          "base_uri": "https://localhost:8080/"
        },
        "id": "vxlShcC7Pjwf",
        "outputId": "6b74e148-7faa-4232-cd18-22fcd31c1075"
      },
      "outputs": [
        {
          "output_type": "stream",
          "name": "stdout",
          "text": [
            "Model coeficients: \n",
            " [-1.00213533  0.69626862  0.27806485  0.7187384  -2.0223194   3.14523956\n",
            " -0.17604788 -3.0819076   2.25140666 -1.76701378 -2.03775151  1.12956831\n",
            " -3.61165842]\n",
            "\n",
            "Término independiente:  22.796534653465375\n"
          ]
        }
      ],
      "source": [
        "# Entrenamiento con todos los datos para obtener los coeficientes del modelo.\n",
        "model = reg.fit(X_stdr, y_training)\n",
        "\n",
        "# Obtención de los coeficientes del modelo.\n",
        "w = model.coef_\n",
        "print('Model coeficients: \\n', w)\n",
        "\n",
        "# Obtención del término independiente del modelo.\n",
        "w_0 = model.intercept_\n",
        "print('\\nTérmino independiente: ', w_0)"
      ]
    },
    {
      "cell_type": "code",
      "execution_count": null,
      "metadata": {
        "id": "eQn4VbNNPjwf"
      },
      "outputs": [],
      "source": [
        "# ---- PREDICCIÓN ---- #"
      ]
    },
    {
      "cell_type": "code",
      "execution_count": 10,
      "metadata": {
        "id": "UFCw-gsAPjwg"
      },
      "outputs": [],
      "source": [
        "# Estandarización de las característiacs de test\n",
        "X_test_stdr = standardizer.transform(X_testing)"
      ]
    },
    {
      "cell_type": "code",
      "execution_count": 11,
      "metadata": {
        "id": "mLvRT3t3Pjwg"
      },
      "outputs": [],
      "source": [
        "# Predicción del conjunto de test\n",
        "y_pred_test = model.predict(X_test_stdr)\n",
        "# print(y_pred_test)"
      ]
    },
    {
      "cell_type": "code",
      "execution_count": 12,
      "metadata": {
        "colab": {
          "base_uri": "https://localhost:8080/"
        },
        "id": "sgFPRCP_Pjwh",
        "outputId": "c775bd61-bafa-4068-9608-e9355050094a"
      },
      "outputs": [
        {
          "output_type": "stream",
          "name": "stdout",
          "text": [
            "MAE:  3.1891\n",
            "MAE:  24.2911\n",
            "RMSE: 4.9286\n",
            "R2:   0.6688\n"
          ]
        }
      ],
      "source": [
        "# Cálculo de las métricas de evaluación.\n",
        "MAE = metrics.mean_absolute_error(y_testing, y_pred_test)\n",
        "MSE = metrics.mean_squared_error(y_testing, y_pred_test, squared=True)\n",
        "RMSE = metrics.mean_squared_error(y_testing, y_pred_test, squared=False)\n",
        "R2 = metrics.r2_score(y_testing, y_pred_test)\n",
        "\n",
        "print('MAE:  %.4f' % MAE)\n",
        "print('MAE:  %.4f' % MSE)\n",
        "print('RMSE: %.4f' % RMSE)\n",
        "print('R2:   %.4f' % R2)"
      ]
    },
    {
      "cell_type": "code",
      "execution_count": 13,
      "metadata": {
        "colab": {
          "base_uri": "https://localhost:8080/",
          "height": 294
        },
        "id": "Jjl8eirNPjwi",
        "outputId": "6559b1e0-c16c-4543-9147-cdfe586619b8"
      },
      "outputs": [
        {
          "output_type": "display_data",
          "data": {
            "text/plain": [
              "<Figure size 432x288 with 1 Axes>"
            ],
            "image/png": "[encoded data removed]"
          },
          "metadata": {
            "needs_background": "light"
          }
        }
      ],
      "source": [
        "# Gráfica de realidad vs. predicción.\n",
        "fig, ax = plt.subplots()\n",
        "ax.scatter(y_testing, y_pred_test, edgecolors=(0, 0, 0))\n",
        "ax.plot([y.min(), y.max()], [y.min(), y.max()], 'k--', lw=4)\n",
        "ax.set_xlabel('Valor real de la clase')\n",
        "ax.set_ylabel('Predicción')\n",
        "plt.title(\"MAE: %.3f  MSE: %.3f   RMSE: %.3f  R2: %.3f\" %\n",
        "          (MAE, MSE, RMSE, R2))\n",
        "plt.grid()\n",
        "plt.show()"
      ]
    },
    {
      "cell_type": "code",
      "execution_count": null,
      "metadata": {
        "id": "mhRap71ePjwj"
      },
      "outputs": [],
      "source": [
        ""
      ]
    }
  ],
  "metadata": {
    "kernelspec": {
      "display_name": "Python 3 (ipykernel)",
      "language": "python",
      "name": "python3"
    },
    "language_info": {
      "codemirror_mode": {
        "name": "ipython",
        "version": 3
      },
      "file_extension": ".py",
      "mimetype": "text/x-python",
      "name": "python",
      "nbconvert_exporter": "python",
      "pygments_lexer": "ipython3",
      "version": "3.9.6"
    },
    "colab": {
      "name": "Programa12.Regresion.OLS(2) (1).ipynb",
      "provenance": [],
      "include_colab_link": true
    }
  },
  "nbformat": 4,
  "nbformat_minor": 0
}