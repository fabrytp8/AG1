{
  "cells": [
    {
      "cell_type": "markdown",
      "metadata": {
        "id": "view-in-github",
        "colab_type": "text"
      },
      "source": [
        "<a href=\"https://colab.research.google.com/github/fabrytp8/AG1/blob/main/ej_video/parte_2_(1).ipynb\" target=\"_parent\"><img src=\"https://colab.research.google.com/assets/colab-badge.svg\" alt=\"Open In Colab\"/></a>"
      ]
    },
    {
      "cell_type": "code",
      "execution_count": null,
      "id": "0650df4e-89da-496b-9d3c-e5759a7b3db5",
      "metadata": {
        "id": "0650df4e-89da-496b-9d3c-e5759a7b3db5",
        "outputId": "09679a2e-b8ef-49f0-eb01-2c0f64c7e948"
      },
      "outputs": [
        {
          "name": "stdout",
          "output_type": "stream",
          "text": [
            "        ID     Class\n",
            "0    0.png  Glaucoma\n",
            "1    1.png  Glaucoma\n",
            "2    2.png  Glaucoma\n",
            "3    3.png  Glaucoma\n",
            "4    4.png  Glaucoma\n",
            "..     ...       ...\n",
            "91  91.png   Healthy\n",
            "92  92.png   Healthy\n",
            "93  93.png   Healthy\n",
            "94  94.png   Healthy\n",
            "95  95.png   Healthy\n",
            "\n",
            "[96 rows x 2 columns]\n"
          ]
        }
      ],
      "source": [
        "import pandas as pd\n",
        "import numpy as np\n",
        "df = pd.read_csv('Database.csv',sep=';')\n",
        "print(df)"
      ]
    },
    {
      "cell_type": "code",
      "execution_count": null,
      "id": "4bfd30bf-e908-4a35-803f-2cf03ddb00be",
      "metadata": {
        "id": "4bfd30bf-e908-4a35-803f-2cf03ddb00be",
        "outputId": "8480b3eb-675a-490a-9058-61bcd842c472"
      },
      "outputs": [
        {
          "name": "stdout",
          "output_type": "stream",
          "text": [
            "--- train ---\n",
            "Glaucoma:  49 \n",
            "Healthy:  28\n",
            "--- test ---\n",
            "Glaucoma:  10 \n",
            "Healthy:  9\n"
          ]
        }
      ],
      "source": [
        "from sklearn.model_selection import train_test_split,KFold\n",
        "# train, test =train_test_split(df, test_size=0.2,shuffle=True, random_state=42)\n",
        "kf = KFold(n_splits=5,shuffle=True, random_state=42)\n",
        "bolsas = kf.split(df)\n",
        "for k, (train_fold, test_fold) in enumerate(bolsas):\n",
        "    train = df.iloc[train_fold]\n",
        "    test = df.iloc[test_fold]\n",
        "lab_train, ocur_train = np.unique(train.Class, return_counts=True)\n",
        "lab_test, ocur_test = np.unique(test.Class, return_counts=True)\n",
        "print('--- train ---\\nGlaucoma: ',ocur_train[0], '\\nHealthy: ', ocur_train[1])\n",
        "print('--- test ---\\nGlaucoma: ',ocur_test[0], '\\nHealthy: ', ocur_test[1])"
      ]
    },
    {
      "cell_type": "code",
      "execution_count": null,
      "id": "3ff87599-c06f-4b11-9d54-54c0c585e1c9",
      "metadata": {
        "id": "3ff87599-c06f-4b11-9d54-54c0c585e1c9",
        "outputId": "91a20dd5-df10-42d4-de05-e850a0ed0d03"
      },
      "outputs": [
        {
          "name": "stdout",
          "output_type": "stream",
          "text": [
            "        ID     Class\n",
            "0    0.png  Glaucoma\n",
            "3    3.png  Glaucoma\n",
            "4    4.png  Glaucoma\n",
            "5    5.png  Glaucoma\n",
            "6    6.png  Glaucoma\n",
            "..     ...       ...\n",
            "90  90.png   Healthy\n",
            "91  91.png   Healthy\n",
            "93  93.png   Healthy\n",
            "94  94.png   Healthy\n",
            "95  95.png   Healthy\n",
            "\n",
            "[77 rows x 2 columns]\n"
          ]
        }
      ],
      "source": [
        "print(train)"
      ]
    },
    {
      "cell_type": "code",
      "execution_count": null,
      "id": "a0167303-26bc-49c8-a31e-595e95096430",
      "metadata": {
        "id": "a0167303-26bc-49c8-a31e-595e95096430",
        "outputId": "82e2f8ac-785b-472d-f35b-dd9138ad017d"
      },
      "outputs": [
        {
          "name": "stdout",
          "output_type": "stream",
          "text": [
            "        ID     Class\n",
            "0    0.png  Glaucoma\n",
            "69  69.png   Healthy\n",
            "89  89.png   Healthy\n",
            "4    4.png  Glaucoma\n",
            "38  38.png  Glaucoma\n",
            "..     ...       ...\n",
            "24  24.png  Glaucoma\n",
            "65  65.png   Healthy\n",
            "68  68.png   Healthy\n",
            "48  48.png  Glaucoma\n",
            "54  54.png  Glaucoma\n",
            "\n",
            "[77 rows x 2 columns]\n"
          ]
        }
      ],
      "source": [
        "# aleatorizar df\n",
        "train = train.sample(frac=1)\n",
        "test = test.sample(frac=1)\n",
        "print(train)"
      ]
    },
    {
      "cell_type": "code",
      "execution_count": null,
      "id": "dfc6fa25-94b1-448b-801d-06c0a1f8d88a",
      "metadata": {
        "id": "dfc6fa25-94b1-448b-801d-06c0a1f8d88a"
      },
      "outputs": [],
      "source": [
        "# Guardar los modelo\n",
        "import os\n",
        "if not os.path.exists('partitions'):\n",
        "    os.mkdir('partitions')\n",
        "train.to_csv('partitions/train.csv', sep=';')\n",
        "test.to_csv('partitions/test.csv', sep=';')"
      ]
    },
    {
      "cell_type": "code",
      "execution_count": null,
      "id": "a65353b2-3e7f-4852-84b2-e796f4f51f7a",
      "metadata": {
        "id": "a65353b2-3e7f-4852-84b2-e796f4f51f7a"
      },
      "outputs": [],
      "source": [
        ""
      ]
    }
  ],
  "metadata": {
    "kernelspec": {
      "display_name": "Python 3 (ipykernel)",
      "language": "python",
      "name": "python3"
    },
    "language_info": {
      "codemirror_mode": {
        "name": "ipython",
        "version": 3
      },
      "file_extension": ".py",
      "mimetype": "text/x-python",
      "name": "python",
      "nbconvert_exporter": "python",
      "pygments_lexer": "ipython3",
      "version": "3.9.6"
    },
    "colab": {
      "name": "parte 2 (1).ipynb",
      "provenance": [],
      "include_colab_link": true
    }
  },
  "nbformat": 4,
  "nbformat_minor": 5
}