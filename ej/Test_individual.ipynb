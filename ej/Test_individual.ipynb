{
  "cells": [
    {
      "cell_type": "markdown",
      "metadata": {
        "id": "view-in-github",
        "colab_type": "text"
      },
      "source": [
        "<a href=\"https://colab.research.google.com/github/fabrytp8/AG1/blob/main/ej/Test_individual.ipynb\" target=\"_parent\"><img src=\"https://colab.research.google.com/assets/colab-badge.svg\" alt=\"Open In Colab\"/></a>"
      ]
    },
    {
      "cell_type": "code",
      "execution_count": null,
      "id": "e98f08c4-a260-47ea-945d-3755f1f1f023",
      "metadata": {
        "id": "e98f08c4-a260-47ea-945d-3755f1f1f023"
      },
      "outputs": [],
      "source": [
        "import os\n",
        "import cv2\n",
        "import matplotlib.pyplot as plt\n",
        "import numpy as np\n",
        "import pandas as pd\n",
        "\n",
        "import pickle\n",
        "from pprint import pprint\n",
        "from skimage.feature import hog\n",
        "\n",
        "from sklearn import preprocessing\n",
        "from sklearn.feature_selection import VarianceThreshold\n",
        "from sklearn.model_selection import cross_val_score, KFold\n",
        "from sklearn.ensemble import RandomForestClassifier\n"
      ]
    },
    {
      "cell_type": "code",
      "execution_count": null,
      "id": "e2b717ef-cfa0-49db-b9ec-e1759a2e6534",
      "metadata": {
        "id": "e2b717ef-cfa0-49db-b9ec-e1759a2e6534"
      },
      "outputs": [],
      "source": [
        "# predicción individual"
      ]
    },
    {
      "cell_type": "code",
      "execution_count": null,
      "id": "700a58d6-6e2e-47a7-8fef-4d7f9e426729",
      "metadata": {
        "id": "700a58d6-6e2e-47a7-8fef-4d7f9e426729",
        "outputId": "49053c95-20e3-4cad-f742-83ebd6c854ad"
      },
      "outputs": [
        {
          "data": {
            "image/png": "[encoded data removed]",
            "text/plain": [
              "<Figure size 432x288 with 1 Axes>"
            ]
          },
          "metadata": {
            "needs_background": "light"
          },
          "output_type": "display_data"
        }
      ],
      "source": [
        "# Cargar todos los objetos obtenidos en el entrenamiento\n",
        "# estandarizador\n",
        "with open('objetos/estandarizador.pickle', 'rb') as fr:\n",
        "    std = pickle.load(fr)\n",
        "    \n",
        "# selector\n",
        "with open('objetos/selector.pickle', 'rb') as fr:\n",
        "    sel = pickle.load(fr)\n",
        "\n",
        "# model\n",
        "with open('objetos/clasificador.pickle', 'rb') as fr:\n",
        "    model = pickle.load(fr)\n",
        "\n",
        "test_img = cv2.imread('test_5_1.png',0)\n",
        "plt.imshow(test_img,cmap='gray')\n",
        "plt.show()"
      ]
    },
    {
      "cell_type": "code",
      "execution_count": null,
      "id": "1e77ebc4-686a-4f25-9d27-89b9855ff6cc",
      "metadata": {
        "id": "1e77ebc4-686a-4f25-9d27-89b9855ff6cc",
        "outputId": "546d1270-4af6-4370-d374-77e1fb9c6509"
      },
      "outputs": [
        {
          "data": {
            "image/png": "[encoded data removed]",
            "text/plain": [
              "<Figure size 432x288 with 1 Axes>"
            ]
          },
          "metadata": {
            "needs_background": "light"
          },
          "output_type": "display_data"
        }
      ],
      "source": [
        "t, test_ima = cv2.threshold(test_img,0,1,cv2.THRESH_OTSU)\n",
        "# test_ima = cv2.resize(test_ima,(16,16))\n",
        "plt.imshow(test_ima,cmap='gray')\n",
        "plt.show()"
      ]
    },
    {
      "cell_type": "code",
      "execution_count": null,
      "id": "a517c51c-8fd8-499b-aaef-ba14c6a312da",
      "metadata": {
        "id": "a517c51c-8fd8-499b-aaef-ba14c6a312da",
        "outputId": "c5f05346-d2bd-4f40-b7cc-a8ae672a7363"
      },
      "outputs": [
        {
          "name": "stdout",
          "output_type": "stream",
          "text": [
            "(1, 324)\n",
            "(1, 144)\n",
            "prediction: 4\n"
          ]
        }
      ],
      "source": [
        "feat_test = hog(test_ima,orientations=9, pixels_per_cell=(4,4), cells_per_block=(2,2),\n",
        "                  transform_sqrt = True, block_norm='L1')\n",
        "\n",
        "feat_test = std.transform(np.expand_dims(feat_test,axis=0))\n",
        "print(np.shape(feat_test))\n",
        "\n",
        "feat_test = sel.transform(feat_test)\n",
        "print(np.shape(feat_test))\n",
        "\n",
        "y_pred = model.predict(feat_test)\n",
        "print('prediction: ' + str(y_pred[0]))"
      ]
    },
    {
      "cell_type": "code",
      "execution_count": null,
      "id": "9076e993-3b05-4cc8-9faf-ca92d9218a35",
      "metadata": {
        "id": "9076e993-3b05-4cc8-9faf-ca92d9218a35"
      },
      "outputs": [],
      "source": [
        ""
      ]
    }
  ],
  "metadata": {
    "kernelspec": {
      "display_name": "Python 3 (ipykernel)",
      "language": "python",
      "name": "python3"
    },
    "language_info": {
      "codemirror_mode": {
        "name": "ipython",
        "version": 3
      },
      "file_extension": ".py",
      "mimetype": "text/x-python",
      "name": "python",
      "nbconvert_exporter": "python",
      "pygments_lexer": "ipython3",
      "version": "3.9.6"
    },
    "colab": {
      "name": "Test_individual.ipynb",
      "provenance": [],
      "include_colab_link": true
    }
  },
  "nbformat": 4,
  "nbformat_minor": 5
}