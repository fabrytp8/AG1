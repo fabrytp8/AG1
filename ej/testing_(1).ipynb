{
  "cells": [
    {
      "cell_type": "markdown",
      "metadata": {
        "id": "view-in-github",
        "colab_type": "text"
      },
      "source": [
        "<a href=\"https://colab.research.google.com/github/fabrytp8/AG1/blob/main/ej/testing_(1).ipynb\" target=\"_parent\"><img src=\"https://colab.research.google.com/assets/colab-badge.svg\" alt=\"Open In Colab\"/></a>"
      ]
    },
    {
      "cell_type": "code",
      "execution_count": null,
      "id": "d07e1ff8-ea6e-4823-9d2c-38c54b05d7ec",
      "metadata": {
        "id": "d07e1ff8-ea6e-4823-9d2c-38c54b05d7ec"
      },
      "outputs": [],
      "source": [
        "import os\n",
        "import cv2\n",
        "import matplotlib.pyplot as plt\n",
        "import numpy as np\n",
        "import pandas as pd\n",
        "\n",
        "import pickle\n",
        "from pprint import pprint\n",
        "from skimage.feature import hog\n",
        "\n",
        "from sklearn import preprocessing\n",
        "from sklearn.feature_selection import VarianceThreshold\n",
        "from sklearn.model_selection import cross_val_score, KFold\n",
        "from sklearn.ensemble import RandomForestClassifier\n",
        "\n",
        "from tabulate import tabulate\n",
        "from sklearn import metrics"
      ]
    },
    {
      "cell_type": "raw",
      "id": "06a41063-e617-4760-af1b-0967f7d61780",
      "metadata": {
        "id": "06a41063-e617-4760-af1b-0967f7d61780"
      },
      "source": [
        "<!-- predictor -->"
      ]
    },
    {
      "cell_type": "code",
      "execution_count": null,
      "id": "14f43861-0d54-41df-a3fa-2ebd85caa9af",
      "metadata": {
        "id": "14f43861-0d54-41df-a3fa-2ebd85caa9af"
      },
      "outputs": [],
      "source": [
        "# Cargar todos los objetos obtenidos en el entrenamiento\n",
        "# estandarizador\n",
        "with open('objetos/estandarizador.pickle', 'rb') as fr:\n",
        "    std = pickle.load(fr)\n",
        "    \n",
        "# selector\n",
        "with open('objetos/selector.pickle', 'rb') as fr:\n",
        "    sel = pickle.load(fr)\n",
        "\n",
        "# model\n",
        "with open('objetos/clasificador.pickle', 'rb') as fr:\n",
        "    model = pickle.load(fr)\n"
      ]
    },
    {
      "cell_type": "code",
      "execution_count": null,
      "id": "643a0d93-88b3-44ef-b037-d5ce555f61c6",
      "metadata": {
        "id": "643a0d93-88b3-44ef-b037-d5ce555f61c6",
        "outputId": "3d04294b-44c6-4137-a4fd-96319b0b511d"
      },
      "outputs": [
        {
          "name": "stdout",
          "output_type": "stream",
          "text": [
            "(320, 16, 16)\n",
            "(320,)\n"
          ]
        }
      ],
      "source": [
        "# Craga de datos de test\n",
        "images, target = [],[]\n",
        "folder = os.listdir('test/')\n",
        "# print(folder)\n",
        "for i in np.arange(len(folder)):\n",
        "    name = folder[i] #name image\n",
        "    img = cv2.imread('test/' + name, 0)\n",
        "    img[img<255]=0\n",
        "    images.append(img)\n",
        "    \n",
        "    idx = name.find('_')\n",
        "    tgt = int(name[idx+1])\n",
        "    target.append(tgt)\n",
        "\n",
        "images = np.array(images)\n",
        "target = np.array(target)\n",
        "print(np.shape(images))\n",
        "print(np.shape(target))"
      ]
    },
    {
      "cell_type": "code",
      "execution_count": null,
      "id": "18258eb2-8e73-47ed-b267-4f12b37d1e39",
      "metadata": {
        "id": "18258eb2-8e73-47ed-b267-4f12b37d1e39",
        "outputId": "42a96829-6bc2-41b8-d037-0931e2dd184a"
      },
      "outputs": [
        {
          "name": "stdout",
          "output_type": "stream",
          "text": [
            "(320, 324)\n",
            "(320,)\n"
          ]
        }
      ],
      "source": [
        "# 5) Extracciónd e características de test\n",
        "X_test = []\n",
        "y_test = target\n",
        "for i in np.arange(len(folder)):\n",
        "    features = hog(images[i],orientations=9, pixels_per_cell=(4,4), cells_per_block=(2,2),\n",
        "                  transform_sqrt = True, block_norm='L1')\n",
        "    X_test.append(features)\n",
        "X_test = np.array(X_test)\n",
        "print(np.shape(X_test))\n",
        "print(np.shape(y_test))"
      ]
    },
    {
      "cell_type": "code",
      "execution_count": null,
      "id": "854abb32-6d7f-4e7b-9bbc-a0cc401dc68a",
      "metadata": {
        "id": "854abb32-6d7f-4e7b-9bbc-a0cc401dc68a",
        "outputId": "3c2864fe-3ca8-42ee-a739-b33dfa4dbcdd"
      },
      "outputs": [
        {
          "name": "stdout",
          "output_type": "stream",
          "text": [
            "(320, 324)\n"
          ]
        }
      ],
      "source": [
        "# 6) Estandarización y caracterizaciónd e test\n",
        "X_test = std.transform(X_test)\n",
        "print(np.shape(X_test))"
      ]
    },
    {
      "cell_type": "code",
      "execution_count": null,
      "id": "9f259a39-1b29-4a98-960c-29939901f202",
      "metadata": {
        "id": "9f259a39-1b29-4a98-960c-29939901f202",
        "outputId": "2503d6f7-a98f-4077-c1c3-1e497440310d"
      },
      "outputs": [
        {
          "name": "stdout",
          "output_type": "stream",
          "text": [
            "(320, 144)\n"
          ]
        }
      ],
      "source": [
        "# 7) Selección de características \n",
        "X_test = sel.transform(X_test)\n",
        "print(np.shape(X_test))"
      ]
    },
    {
      "cell_type": "code",
      "execution_count": null,
      "id": "f1a9cd42-39d1-416c-a6f6-72bc2722ec1a",
      "metadata": {
        "id": "f1a9cd42-39d1-416c-a6f6-72bc2722ec1a",
        "outputId": "24d893ed-3c2b-49f8-bc5e-3fdebee4d2c4"
      },
      "outputs": [
        {
          "name": "stdout",
          "output_type": "stream",
          "text": [
            "(320,)\n"
          ]
        }
      ],
      "source": [
        "# 8) Extraer predicciones\n",
        "y_pred = model.predict(X_test)\n",
        "print(np.shape(y_pred))"
      ]
    },
    {
      "cell_type": "code",
      "execution_count": null,
      "id": "9a72e2e3-1c63-43dc-a704-2a1be6e4b348",
      "metadata": {
        "id": "9a72e2e3-1c63-43dc-a704-2a1be6e4b348",
        "outputId": "952c9dcb-9a2f-4c04-c571-c9b077742282"
      },
      "outputs": [
        {
          "name": "stdout",
          "output_type": "stream",
          "text": [
            "                 CLF\n",
            "------------  ------\n",
            "Precision     0.861\n",
            "Sensibilidad  0.8438\n",
            "F1-score      0.8414\n",
            "Accuracy      0.8438\n",
            "\n",
            "CONFUSION MATRIX\n",
            "[[31  1  0  0  0  0  0  0  0  0]\n",
            " [ 0 31  1  0  0  0  0  0  0  0]\n",
            " [ 2  2 26  0  0  0  0  2  0  0]\n",
            " [ 1  5  0 20  0  3  0  0  3  0]\n",
            " [ 0  0  2  0 30  0  0  0  0  0]\n",
            " [ 0  3  0  0  0 29  0  0  0  0]\n",
            " [ 3  0  0  0  0  0 29  0  0  0]\n",
            " [ 0  1  0  0  0  0  0 31  0  0]\n",
            " [ 2  1  0  0  0  0  7  0 21  1]\n",
            " [ 2  1  0  1  0  3  1  0  2 22]]\n"
          ]
        }
      ],
      "source": [
        "# 9)Evaluar resultados\n",
        "from tabulate import tabulate\n",
        "from sklearn import metrics\n",
        "\n",
        "headers = ['','CLF']\n",
        "P,S,FS,ACC = [['Precision'],['Sensibilidad'],['F1-score'],['Accuracy']]\n",
        "\n",
        "P.append(np.round(metrics.precision_score(y_test, y_pred, average = 'macro'),4))\n",
        "S.append(np.round(metrics.recall_score(y_test, y_pred, average = 'macro'),4))\n",
        "FS.append(np.round(metrics.f1_score(y_test, y_pred, average = 'macro'),4))\n",
        "ACC.append(np.round(metrics.accuracy_score(y_test, y_pred),4))\n",
        "my_data = [tuple(P), tuple(S), tuple(FS), tuple(ACC)]\n",
        "print(tabulate(my_data, headers=headers))\n",
        "\n",
        "# Confusion matrix\n",
        "print('\\nCONFUSION MATRIX')\n",
        "print(metrics.confusion_matrix(y_test, y_pred, normalize=None, ))"
      ]
    },
    {
      "cell_type": "code",
      "execution_count": null,
      "id": "9c74fdae-7748-4801-a28f-be1a369a72d2",
      "metadata": {
        "id": "9c74fdae-7748-4801-a28f-be1a369a72d2"
      },
      "outputs": [],
      "source": [
        ""
      ]
    }
  ],
  "metadata": {
    "kernelspec": {
      "display_name": "Python 3 (ipykernel)",
      "language": "python",
      "name": "python3"
    },
    "language_info": {
      "codemirror_mode": {
        "name": "ipython",
        "version": 3
      },
      "file_extension": ".py",
      "mimetype": "text/x-python",
      "name": "python",
      "nbconvert_exporter": "python",
      "pygments_lexer": "ipython3",
      "version": "3.9.6"
    },
    "colab": {
      "name": "testing (1).ipynb",
      "provenance": [],
      "include_colab_link": true
    }
  },
  "nbformat": 4,
  "nbformat_minor": 5
}