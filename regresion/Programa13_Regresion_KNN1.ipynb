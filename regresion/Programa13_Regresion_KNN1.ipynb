{
  "cells": [
    {
      "cell_type": "markdown",
      "metadata": {
        "id": "view-in-github",
        "colab_type": "text"
      },
      "source": [
        "<a href=\"https://colab.research.google.com/github/fabrytp8/AG1/blob/main/regresion/Programa13_Regresion_KNN1.ipynb\" target=\"_parent\"><img src=\"https://colab.research.google.com/assets/colab-badge.svg\" alt=\"Open In Colab\"/></a>"
      ]
    },
    {
      "cell_type": "code",
      "execution_count": 2,
      "metadata": {
        "id": "KFfW0DX-SeHj"
      },
      "outputs": [],
      "source": [
        "import numpy as np\n",
        "from math import sqrt\n",
        "from sklearn import datasets, linear_model\n",
        "import sklearn.metrics as metrics\n",
        "from sklearn.model_selection import KFold\n",
        "from sklearn.model_selection import cross_val_predict, cross_val_score, train_test_split\n",
        "from sklearn import preprocessing\n",
        "from sklearn.neighbors import KNeighborsRegressor\n",
        "# from evaluacion_funciones import * # pip install graphviz\n",
        "from sklearn.preprocessing import StandardScaler\n",
        "from sklearn.feature_selection import SelectPercentile, f_regression\n",
        "from pprint import pprint"
      ]
    },
    {
      "cell_type": "code",
      "execution_count": 4,
      "metadata": {
        "colab": {
          "base_uri": "https://localhost:8080/"
        },
        "id": "Zrl-cLUOSeHn",
        "outputId": "508a153f-d5b1-4ef8-c691-0cff70185308"
      },
      "outputs": [
        {
          "output_type": "stream",
          "name": "stdout",
          "text": [
            "(506, 13)\n"
          ]
        },
        {
          "output_type": "stream",
          "name": "stderr",
          "text": [
            "/usr/local/lib/python3.7/dist-packages/sklearn/utils/deprecation.py:87: FutureWarning: Function load_boston is deprecated; `load_boston` is deprecated in 1.0 and will be removed in 1.2.\n",
            "\n",
            "    The Boston housing prices dataset has an ethical problem. You can refer to\n",
            "    the documentation of this function for further details.\n",
            "\n",
            "    The scikit-learn maintainers therefore strongly discourage the use of this\n",
            "    dataset unless the purpose of the code is to study and educate about\n",
            "    ethical issues in data science and machine learning.\n",
            "\n",
            "    In this special case, you can fetch the dataset from the original\n",
            "    source::\n",
            "\n",
            "        import pandas as pd\n",
            "        import numpy as np\n",
            "\n",
            "\n",
            "        data_url = \"http://lib.stat.cmu.edu/datasets/boston\"\n",
            "        raw_df = pd.read_csv(data_url, sep=\"\\s+\", skiprows=22, header=None)\n",
            "        data = np.hstack([raw_df.values[::2, :], raw_df.values[1::2, :2]])\n",
            "        target = raw_df.values[1::2, 2]\n",
            "\n",
            "    Alternative datasets include the California housing dataset (i.e.\n",
            "    :func:`~sklearn.datasets.fetch_california_housing`) and the Ames housing\n",
            "    dataset. You can load the datasets as follows::\n",
            "\n",
            "        from sklearn.datasets import fetch_california_housing\n",
            "        housing = fetch_california_housing()\n",
            "\n",
            "    for the California housing dataset and::\n",
            "\n",
            "        from sklearn.datasets import fetch_openml\n",
            "        housing = fetch_openml(name=\"house_prices\", as_frame=True)\n",
            "\n",
            "    for the Ames housing dataset.\n",
            "    \n",
            "  warnings.warn(msg, category=FutureWarning)\n"
          ]
        }
      ],
      "source": [
        "# Carga de datos.\n",
        "dataset = datasets.load_boston()\n",
        "X = dataset.data\n",
        "y = dataset.target\n",
        "print(np.shape(X))"
      ]
    },
    {
      "cell_type": "code",
      "execution_count": 5,
      "metadata": {
        "id": "Jr3-afOGSeHo"
      },
      "outputs": [],
      "source": [
        "# Métricas de evaluación.\n",
        "metricas = {\n",
        "  'MAE': metrics.mean_absolute_error,\n",
        "  'RMSE': lambda y, y_pred:\n",
        "          sqrt(metrics.mean_squared_error(y, y_pred)),\n",
        "  'MAPE': lambda y, y_pred:\n",
        "          np.mean(np.abs((y - y_pred) / y)) * 100,\n",
        "  'R2': metrics.r2_score}"
      ]
    },
    {
      "cell_type": "code",
      "execution_count": 6,
      "metadata": {
        "colab": {
          "base_uri": "https://localhost:8080/"
        },
        "id": "8YY-DGrDSeHr",
        "outputId": "1b32ff64-c6f2-48e0-b55a-8fbbaabd0d9c"
      },
      "outputs": [
        {
          "output_type": "stream",
          "name": "stdout",
          "text": [
            "(404, 13)\n"
          ]
        }
      ],
      "source": [
        "# 1) Partición de datos externa\n",
        "X_training, X_testing, y_training, y_testing = train_test_split(X, y, test_size=0.2, random_state=42)\n",
        "print(np.shape(X_training))"
      ]
    },
    {
      "cell_type": "code",
      "execution_count": null,
      "metadata": {
        "id": "g28i6Gr1SeHt"
      },
      "outputs": [],
      "source": [
        "# 2) Extracción de características (no es necesario en este caso)"
      ]
    },
    {
      "cell_type": "code",
      "execution_count": 7,
      "metadata": {
        "id": "9a44zMydSeHv"
      },
      "outputs": [],
      "source": [
        "# 3) Estandarización de los datos de entrenamiento\n",
        "standardizer = preprocessing.StandardScaler()\n",
        "X_training = standardizer.fit_transform(X_training)"
      ]
    },
    {
      "cell_type": "code",
      "execution_count": 8,
      "metadata": {
        "colab": {
          "base_uri": "https://localhost:8080/"
        },
        "id": "HcP7dYSMSeHw",
        "outputId": "bd660a2a-00de-41fe-c756-d12d7bcc06b1"
      },
      "outputs": [
        {
          "output_type": "stream",
          "name": "stdout",
          "text": [
            "(404, 11)\n"
          ]
        }
      ],
      "source": [
        "# # 4) Selección de atributos\n",
        "sel = SelectPercentile(score_func=f_regression, percentile=90)\n",
        "X_training = sel.fit_transform(X_training, y_training)\n",
        "print(np.shape(X_training))"
      ]
    },
    {
      "cell_type": "code",
      "execution_count": 9,
      "metadata": {
        "id": "zNx1Bj-USeHy"
      },
      "outputs": [],
      "source": [
        "# 5) Construcción del algoritmo de aprendizaje.\n",
        "k = 10\n",
        "reg = KNeighborsRegressor(n_neighbors = k, weights='uniform', metric='euclidean')"
      ]
    },
    {
      "cell_type": "code",
      "execution_count": 10,
      "metadata": {
        "colab": {
          "base_uri": "https://localhost:8080/",
          "height": 328
        },
        "id": "bqHScwXxSeH0",
        "outputId": "1287974a-4d5d-4b32-ee65-1349fd4c9fb6"
      },
      "outputs": [
        {
          "output_type": "stream",
          "name": "stdout",
          "text": [
            "cross_val_MAE:   2.9372 +/- 0.6702\n"
          ]
        },
        {
          "output_type": "display_data",
          "data": {
            "text/plain": [
              "<Figure size 432x288 with 1 Axes>"
            ],
            "image/png": "[encoded data removed]"
          },
          "metadata": {
            "needs_background": "light"
          }
        }
      ],
      "source": [
        "# 5.1) Validación cruzada interna\n",
        "# Extracción de predicciones con cross_val_predict\n",
        "y_pred = cross_val_predict(reg, X_training, y_training, cv = KFold(n_splits=10, shuffle=True, random_state=42))\n",
        "\n",
        "# Extraer directamente resultados del error para cada bolsa, en lugar de las predicciones\n",
        "cross_val_results = cross_val_score(reg, X_training, y_training, \n",
        "                                    cv = KFold(n_splits=10, shuffle=True, random_state=42), scoring='neg_mean_absolute_error')\n",
        "print(\"cross_val_MAE:   %0.4f +/- %0.4f\" % (-cross_val_results.mean(), cross_val_results.std()))\n",
        "\n",
        "# Visualización de resultados\n",
        "results = evaluacion(y_training, y_pred, metricas)\n",
        "grafica_real_vs_pred(y_training, y_pred, results, \"KNN\"+str(k))"
      ]
    },
    {
      "cell_type": "code",
      "execution_count": 11,
      "metadata": {
        "id": "s1cI7FwVSeH1"
      },
      "outputs": [],
      "source": [
        "# 5.2) Entrenamiento del modelo definitivo\n",
        "model = reg.fit(X_training, y_training)"
      ]
    },
    {
      "cell_type": "code",
      "execution_count": null,
      "metadata": {
        "id": "OgbYZrfaSeH2"
      },
      "outputs": [],
      "source": [
        "# ---- PREDICCIÓN ---- #"
      ]
    },
    {
      "cell_type": "code",
      "execution_count": null,
      "metadata": {
        "id": "rhvaH6H7SeH2"
      },
      "outputs": [],
      "source": [
        "# 6) Extracción de las características de test"
      ]
    },
    {
      "cell_type": "code",
      "execution_count": 12,
      "metadata": {
        "id": "M7JgvPNlSeH3"
      },
      "outputs": [],
      "source": [
        "# 7) Estandarización de las característiacs de test\n",
        "X_test = standardizer.transform(X_testing)"
      ]
    },
    {
      "cell_type": "code",
      "execution_count": 13,
      "metadata": {
        "id": "KizJ8H1LSeH4"
      },
      "outputs": [],
      "source": [
        "# 8) Selección de las características de test\n",
        "X_test = sel.transform(X_test)"
      ]
    },
    {
      "cell_type": "code",
      "execution_count": 14,
      "metadata": {
        "id": "bux2xPDjSeH5"
      },
      "outputs": [],
      "source": [
        "# 9) Predicción del conjunto de test\n",
        "y_pred_test = model.predict(X_test)"
      ]
    },
    {
      "cell_type": "code",
      "execution_count": 15,
      "metadata": {
        "colab": {
          "base_uri": "https://localhost:8080/"
        },
        "id": "oLwi51duSeH5",
        "outputId": "6e54a17e-d1ac-489f-b6be-95c20de6e3ac"
      },
      "outputs": [
        {
          "output_type": "stream",
          "name": "stdout",
          "text": [
            "{'MAE': 2.7751960784313723,\n",
            " 'MAPE': 13.647250752896046,\n",
            " 'R2': 0.7378671827901654,\n",
            " 'RMSE': 4.384425980270461}\n"
          ]
        }
      ],
      "source": [
        "# 10) Evaluación del modelo sobre el conjunto de test\n",
        "results = evaluacion(y_testing, y_pred_test, metricas)\n",
        "pprint(results)"
      ]
    },
    {
      "cell_type": "code",
      "execution_count": 16,
      "metadata": {
        "colab": {
          "base_uri": "https://localhost:8080/"
        },
        "id": "ff84fczTSeH6",
        "outputId": "0e9e94ed-58f4-4857-f8bf-8afc6b18c24e"
      },
      "outputs": [
        {
          "output_type": "stream",
          "name": "stdout",
          "text": [
            "{'MAE': 3.33569890511326,\n",
            " 'MAPE': 17.740040925801143,\n",
            " 'R2': 0.6211363896861358,\n",
            " 'RMSE': 5.271005771775821}\n"
          ]
        }
      ],
      "source": [
        "# Comparación con el algoritmo de regresión lineal en test\n",
        "reg_OLS = linear_model.LinearRegression() # definición\n",
        "model_OLS = reg_OLS.fit(X_training,y_training) # entrenamiento completo\n",
        "y_pred_OLS = model_OLS.predict(X_test) # Predicción\n",
        "results = evaluacion(y_testing, y_pred_OLS, metricas) # Evaluación de resultados\n",
        "pprint(results)"
      ]
    },
    {
      "cell_type": "code",
      "source": [
        "import matplotlib.pyplot as plt\n",
        "import numpy as np\n",
        "from sklearn import tree\n",
        "import graphviz\n",
        "\n",
        "\n",
        "# Calculo de las metricas de evaluacion.\n",
        "def evaluacion(y_true, y_pred, metricas):\n",
        "    res = {}\n",
        "    for nombre, funcion in metricas.items():\n",
        "        res[nombre] = funcion(y_true, y_pred)\n",
        "    return res\n",
        "\n",
        "# Grafica de realidad -vs- prediccion.\n",
        "def grafica_real_vs_pred(y_true, y_pred, metricas, algoritmo):\n",
        "    fig, ax = plt.subplots()\n",
        "    ax.scatter(y_true, y_pred, edgecolors=(0, 0, 0))\n",
        "    ax.plot([y_true.min(), y_true.max()], [y_true.min(), y_true.max()], 'k--', lw=4)\n",
        "    ax.set_xlabel('Valor real de la clase')\n",
        "    ax.set_ylabel('Predicción')\n",
        "    plt.title(\"%s\\nMAE: %.3f  RMSE: %.3f  MAPE: %.3f  R2: %.3f\" %\n",
        "              (algoritmo,metricas['MAE'],metricas['RMSE'],metricas['MAPE'],metricas['R2']))\n",
        "    plt.show()\n",
        "\n",
        "# Grafica con mapa de regiones de clasificacion segun modelo ya entrenado que admita coef_ e intercept_.\n",
        "def mapa_modelo_clasif_2d(X, y, modelo, metricas, algoritmo):\n",
        "    # create a mesh to plot in\n",
        "    h = .02  # step size in the mesh\n",
        "    x_min, x_max = X[:, 0].min() - 1, X[:, 0].max() + 1\n",
        "    y_min, y_max = X[:, 1].min() - 1, X[:, 1].max() + 1\n",
        "    xx, yy = np.meshgrid(np.arange(x_min, x_max, h),\n",
        "                         np.arange(y_min, y_max, h))\n",
        "\n",
        "    # Plot the decision boundary. For that, we will assign a color to each\n",
        "    # point in the mesh [x_min, x_max]x[y_min, y_max].\n",
        "    Z = modelo.predict(np.c_[xx.ravel(), yy.ravel()])\n",
        "\n",
        "    # Put the result into a color plot\n",
        "    Z = Z.reshape(xx.shape)\n",
        "    plt.figure(figsize=(20,16))\n",
        "    plt.contourf(xx, yy, Z, cmap=plt.cm.Paired)\n",
        "    plt.title(\"%s\\nACC: %.3f  PREC: %.3f  RECALL: %.3f  F1: %.3f\" %\n",
        "              (algoritmo,metricas['ACC'],metricas['PREC'],metricas['RECALL'],metricas['F1']), fontsize=28)\n",
        "    plt.axis('tight')\n",
        "\n",
        "    # Plot also the training points\n",
        "    colors = \"bry\"\n",
        "    for i, color in zip(modelo.classes_, colors):\n",
        "        idx = np.where(y == i)\n",
        "        plt.scatter(X[idx, 0], X[idx, 1], c=color, cmap=plt.cm.Paired,\n",
        "                    edgecolor='black', s=20)\n",
        "\n",
        "    # Plot the three one-against-all classifiers\n",
        "    if (hasattr(modelo, 'coef_')):\n",
        "        xmin, xmax = plt.xlim()\n",
        "        ymin, ymax = plt.ylim()\n",
        "        coef = modelo.coef_\n",
        "        intercept = modelo.intercept_\n",
        "\n",
        "        def plot_hyperplane(c, color):\n",
        "            def line(x0):\n",
        "                return (-(x0 * coef[c, 0]) - intercept[c]) / coef[c, 1]\n",
        "\n",
        "            plt.plot([xmin, xmax], [line(xmin), line(xmax)],\n",
        "                     ls=\"--\", color=color)\n",
        "\n",
        "        for i, color in zip(modelo.classes_, colors):\n",
        "            plot_hyperplane(i, color)\n",
        "\n",
        "    plt.show()\n",
        "\n",
        "# Visualizacion de modelo de tipo arbol.\n",
        "def mostrar_modelo_arbol(modelo, datos, nombre_archivo = \"modelo\"):\n",
        "    dot_data = tree.export_graphviz(modelo, out_file=None, feature_names=datos.feature_names,\n",
        "                         class_names=datos.target_names, filled=True,\n",
        "                         rounded=True, special_characters=True)\n",
        "\n",
        "    graph = graphviz.Source(dot_data)\n",
        "    graph.render(nombre_archivo, view=True)"
      ],
      "metadata": {
        "id": "ZQtd-zxRSk4h"
      },
      "execution_count": 17,
      "outputs": []
    },
    {
      "cell_type": "code",
      "source": [
        ""
      ],
      "metadata": {
        "id": "h4uoVSVKSlfy"
      },
      "execution_count": null,
      "outputs": []
    }
  ],
  "metadata": {
    "kernelspec": {
      "display_name": "Python 3",
      "language": "python",
      "name": "python3"
    },
    "language_info": {
      "codemirror_mode": {
        "name": "ipython",
        "version": 3
      },
      "file_extension": ".py",
      "mimetype": "text/x-python",
      "name": "python",
      "nbconvert_exporter": "python",
      "pygments_lexer": "ipython3",
      "version": "3.8.5"
    },
    "colab": {
      "name": "Programa13.Regresion.KNN1(2) (1).ipynb",
      "provenance": [],
      "include_colab_link": true
    }
  },
  "nbformat": 4,
  "nbformat_minor": 0
}