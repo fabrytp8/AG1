{
  "cells": [
    {
      "cell_type": "markdown",
      "metadata": {
        "id": "view-in-github",
        "colab_type": "text"
      },
      "source": [
        "<a href=\"https://colab.research.google.com/github/fabrytp8/AG1/blob/main/ej_video/parte_3_(1).ipynb\" target=\"_parent\"><img src=\"https://colab.research.google.com/assets/colab-badge.svg\" alt=\"Open In Colab\"/></a>"
      ]
    },
    {
      "cell_type": "code",
      "execution_count": null,
      "id": "818b36e6-5b3c-46de-abef-8342d230e896",
      "metadata": {
        "id": "818b36e6-5b3c-46de-abef-8342d230e896",
        "outputId": "735badb4-3f92-4451-8686-c807a6b8f200"
      },
      "outputs": [
        {
          "name": "stdout",
          "output_type": "stream",
          "text": [
            "(77, 24)\n",
            "(19, 24)\n"
          ]
        }
      ],
      "source": [
        "import pandas as pd\n",
        "import numpy as np\n",
        "import os\n",
        "df_train = pd.read_csv('partitions/train.csv',sep=';')\n",
        "# df_test = pd.read_csv('partitions/test.csv',sep=';')\n",
        "matriz_datos_train=feature_extraction(df_train)\n",
        "matriz_datos_test =feature_extraction(df_test)\n",
        "print(np.shape(matriz_datos_train))\n",
        "print(np.shape(matriz_datos_test))\n",
        "if not os.path.exists('features'):\n",
        "    os.mkdir('features')\n",
        "np.save('features/matriz_datos_train.npy',matriz_datos_train)\n",
        "np.save('features/matriz_datos_test.npy',matriz_datos_test)\n"
      ]
    },
    {
      "cell_type": "code",
      "execution_count": null,
      "id": "c25345c1-1abe-4875-817b-b25b99ee499f",
      "metadata": {
        "id": "c25345c1-1abe-4875-817b-b25b99ee499f"
      },
      "outputs": [],
      "source": [
        "def feature_extraction(df):\n",
        "    import cv2\n",
        "    import matplotlib.pyplot as plt\n",
        "    fingerprint=[]\n",
        "    for i in range(0,len(df)):\n",
        "        # print('[info] --- Extrayendo información para la muestra',i)\n",
        "        file = df.ID[i]\n",
        "        img = cv2.imread('images/' + file)\n",
        "        rnfl_mask = cv2.imread('rnfl/' + file,0)\n",
        "        retina_mask = cv2.imread('retinas/' + file,0)\n",
        "        # print(file)\n",
        "        t, mask_rnfl = cv2.threshold(rnfl_mask,0,255,cv2.THRESH_OTSU) # 0 es por defecto y 1 es el valor máximo de la máscara\n",
        "        t, mask_retina = cv2.threshold(retina_mask,0,255,cv2.THRESH_OTSU) # 0 es por defecto y 1 es el valor máximo de la máscara\n",
        "            # print(mask_rnfl.shape[0])    \n",
        "        for j in range(0,mask_rnfl.shape[1]):\n",
        "            cv2.circle(mask_rnfl, (j,0), 0, (0,0,0), 0)\n",
        "        for j in range(0,mask_rnfl.shape[0]):\n",
        "            cv2.circle(mask_rnfl, (mask_rnfl.shape[1]-1,j), 0, (0,0,0), 0)\n",
        "        for j in range(0,mask_rnfl.shape[0]):\n",
        "            cv2.circle(mask_rnfl, (0,j), 0, (0,0,0), 0)\n",
        "        for j in range(0,mask_rnfl.shape[1]):\n",
        "            cv2.circle(mask_rnfl, (j,mask_rnfl.shape[0]-1), 0, (0,0,0), 0)\n",
        "\n",
        "        for j in range(0,mask_retina.shape[1]):\n",
        "            cv2.circle(mask_retina, (j,0), 0, (0,0,0), 0)\n",
        "        for j in range(0,mask_retina.shape[0]):\n",
        "            cv2.circle(mask_retina, (mask_retina.shape[1]-1,j), 0, (0,0,0), 0)\n",
        "        for j in range(0,mask_retina.shape[0]):\n",
        "            cv2.circle(mask_retina, (0,j), 0, (0,0,0), 0)\n",
        "        for j in range(0,mask_retina.shape[1]):\n",
        "            cv2.circle(mask_retina, (j,mask_retina.shape[0]-1), 0, (0,0,0), 0)\n",
        "        #visualización\n",
        "        # fig, ax =plt.subplots(1,3)\n",
        "        # ax[0].imshow(img, cmap='gray'), ax[0].set_title('Imagen')\n",
        "        # ax[1].imshow(mask_rnfl, cmap='gray'), ax[1].set_title('rnfl')\n",
        "        # ax[2].imshow(mask_retina, cmap='gray'), ax[2].set_title('retina')\n",
        "\n",
        "        #estadísticas unidimensionales\n",
        "        thickness_rnfl=[]\n",
        "        for j in range(0, mask_rnfl.shape[1]):\n",
        "            pos = np.where(mask_rnfl[:,j]==255)\n",
        "            if pos[0].size>0:\n",
        "                thickness_rnfl.append(pos[0][-1]-pos[0][0])\n",
        "        thickness_rnfl = np.array(thickness_rnfl)\n",
        "        # print(thickness_rnfl)\n",
        "        # caracteristicas de medida en tendencia central\n",
        "        media = np.mean(thickness_rnfl)\n",
        "        mediana = np.median(thickness_rnfl)\n",
        "\n",
        "        #caracteristicas basadas en medidas de dispersión\n",
        "        desvest = np.std(thickness_rnfl)\n",
        "        #caractrísticas de distribución\n",
        "        from scipy import stats\n",
        "        asimetria = stats.skew(thickness_rnfl)\n",
        "        curtosis = stats.kurtosis(thickness_rnfl)\n",
        "\n",
        "        #otras características\n",
        "        minimo = np.min(thickness_rnfl)\n",
        "        maximo = np.max(thickness_rnfl)\n",
        "        #fingerprin de la rnfl\n",
        "        features_rnfl = [media,mediana,desvest, asimetria, curtosis,minimo,maximo]\n",
        "\n",
        "        #carcaterisiticas bidimensionales\n",
        "        from skimage.measure import regionprops\n",
        "        prop = regionprops(mask_retina)\n",
        "        bb = prop[0].bbox\n",
        "        retina = img[bb[0]:bb[2], bb[1]:bb[3],0]\n",
        "        # plt.imshow(retina,cmap='gray')\n",
        "        # plt.show()\n",
        "\n",
        "        #matriz de concurrencia GLCM\n",
        "        from skimage.feature import graycomatrix, graycoprops\n",
        "        GLCM = graycomatrix(retina, distances=[2], angles=[90],levels=256,symmetric=True, normed=True)\n",
        "        contraste = graycoprops(GLCM, 'contrast')[0,0]\n",
        "        disimilitud = graycoprops(GLCM, 'dissimilarity')[0,0]\n",
        "        homogeneidad = graycoprops(GLCM, 'homogeneity')[0,0]\n",
        "        ASM = graycoprops(GLCM, 'ASM')[0,0]\n",
        "        energia = graycoprops(GLCM, 'energy')[0,0]\n",
        "        correlacion = graycoprops(GLCM, 'correlation')[0,0]\n",
        "\n",
        "        #LBP loca binary patterns\n",
        "        from skimage.feature import local_binary_pattern\n",
        "        R=1\n",
        "        P=8*R\n",
        "        lbp_image = local_binary_pattern(retina, P,R, method='uniform')\n",
        "        lbp_image = np.uint8(lbp_image)\n",
        "        hist_lbp = cv2.calcHist([lbp_image.ravel()],[0],None,[P+2],[0, P+2])\n",
        "        his_lbp = hist_lbp.astype('float')\n",
        "        hist_lbp /= (hist_lbp.sum() + 1e-7)\n",
        "        hist_lbp= hist_lbp.tolist()\n",
        "        hist_lbp = [item for sublist in hist_lbp for item in sublist]\n",
        "\n",
        "        #visualización de la imagen LBP y el histograma\n",
        "        # plt.imshow(retina,cmap='gray')\n",
        "        # plt.show()\n",
        "        # plt.imshow(lbp_image, cmap = 'gray')\n",
        "        # plt.show()\n",
        "        # plt.plot(hist_lbp)\n",
        "        # plt.grid(True)\n",
        "        # plt.show()\n",
        "        #caracteristicas de textura(fingerprint retina)\n",
        "        features_retina = [contraste,disimilitud, homogeneidad, ASM, energia, correlacion] + hist_lbp \n",
        "\n",
        "        #extraer informacion de la clase\n",
        "        if df.Class[i]=='Healthy':\n",
        "            etiqueta = [0]\n",
        "        else:\n",
        "            etiqueta = [1]\n",
        "        fingerprint.append(features_rnfl + features_retina + etiqueta)\n",
        "        # print(np.shape(fingerprint))\n",
        "    matriz_datos = np.array(fingerprint)\n",
        "    return matriz_datos"
      ]
    },
    {
      "cell_type": "code",
      "execution_count": null,
      "id": "aef362e6-de3b-45a0-9e38-33efbedcdb84",
      "metadata": {
        "id": "aef362e6-de3b-45a0-9e38-33efbedcdb84"
      },
      "outputs": [],
      "source": [
        ""
      ]
    },
    {
      "cell_type": "code",
      "execution_count": null,
      "id": "128b7be5-d49c-406a-8dec-14137152f86b",
      "metadata": {
        "id": "128b7be5-d49c-406a-8dec-14137152f86b"
      },
      "outputs": [],
      "source": [
        ""
      ]
    }
  ],
  "metadata": {
    "kernelspec": {
      "display_name": "Python 3 (ipykernel)",
      "language": "python",
      "name": "python3"
    },
    "language_info": {
      "codemirror_mode": {
        "name": "ipython",
        "version": 3
      },
      "file_extension": ".py",
      "mimetype": "text/x-python",
      "name": "python",
      "nbconvert_exporter": "python",
      "pygments_lexer": "ipython3",
      "version": "3.9.6"
    },
    "colab": {
      "name": "parte 3 (1).ipynb",
      "provenance": [],
      "include_colab_link": true
    }
  },
  "nbformat": 4,
  "nbformat_minor": 5
}