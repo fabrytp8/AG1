{
  "cells": [
    {
      "cell_type": "markdown",
      "metadata": {
        "id": "view-in-github",
        "colab_type": "text"
      },
      "source": [
        "<a href=\"https://colab.research.google.com/github/fabrytp8/AG1/blob/main/examen/Examen_C1_(1).ipynb\" target=\"_parent\"><img src=\"https://colab.research.google.com/assets/colab-badge.svg\" alt=\"Open In Colab\"/></a>"
      ]
    },
    {
      "cell_type": "markdown",
      "metadata": {
        "id": "L-aOoGnencju"
      },
      "source": [
        "### EXAMEN - Convocatoria 1 - Desarrollo\n",
        "Utilizar el conjunto de datos \"dataset_exam.npy\" para resolver el ejercicio. Tener en cuenta que la última columna corresponde a la clase."
      ]
    },
    {
      "cell_type": "markdown",
      "metadata": {
        "id": "vhOWiJm9ncj1"
      },
      "source": [
        "#### 1) Partición de datos externa (1.5 puntos)\n",
        "Realizar una partición externa de tipo hold-out seleccionando un 20% de los datos para test (fijar una semilla en 42).\n",
        "Comprobar si los datos, tanto de train como de test, están balanceados."
      ]
    },
    {
      "cell_type": "code",
      "execution_count": null,
      "metadata": {
        "id": "746BIfeqncj2",
        "outputId": "92335e4a-9d9a-47ef-e022-be61027eff0a"
      },
      "outputs": [
        {
          "name": "stdout",
          "output_type": "stream",
          "text": [
            "Test:  clases: [0. 1.]  ocurrencias:  [195 198]\n"
          ]
        }
      ],
      "source": [
        "import pandas as pd\n",
        "import numpy as np\n",
        "from sklearn import datasets\n",
        "from sklearn.dummy import DummyClassifier\n",
        "from sklearn.model_selection import train_test_split\n",
        "from sklearn.impute import SimpleImputer\n",
        "from sklearn import preprocessing\n",
        "# import pprint\n",
        "ds=np.load('dataset_exam.npy')\n",
        "X = ds[:,:-1]\n",
        "y = ds[:,-1]\n",
        "# Test: hold-out split 80-20%. # Partición externa\n",
        "X_training, X_test, y_training, y_test = train_test_split(X, y, test_size=0.2, random_state=42)\n",
        "valores_test, ocur_test = np.unique(y_training, return_counts=True)\n",
        "print('Test: ', 'clases:', valores_test, ' ocurrencias: ', ocur_test) #si esta balanceado con la semilla en 42"
      ]
    },
    {
      "cell_type": "markdown",
      "metadata": {
        "id": "9xxXmcDjncj5"
      },
      "source": [
        "#### 2) Estandarización de los datos de train y test (1.5 puntos)\n",
        "Utilizar el método StandardScaler()."
      ]
    },
    {
      "cell_type": "code",
      "execution_count": null,
      "metadata": {
        "id": "3alIzVQlncj6"
      },
      "outputs": [],
      "source": [
        "# Estandarización de los datos de entrenamiento\n",
        "standardizer = preprocessing.StandardScaler()\n",
        "stdr_trained = standardizer.fit(X_training)\n",
        "X_stdr = stdr_trained.transform(X_training)\n",
        "# y_stdr = standardizer.fit_transform(y_training)\n"
      ]
    },
    {
      "cell_type": "markdown",
      "metadata": {
        "id": "aI8lwj3Cncj7"
      },
      "source": [
        "#### 3) Selección de atributos en train y test (1.5 puntos)\n",
        "Aplicar el método de información mutua para clasificación en el percentile 90."
      ]
    },
    {
      "cell_type": "code",
      "execution_count": null,
      "metadata": {
        "id": "BVE2Ucotncj8",
        "outputId": "ed8b5411-f40a-4749-9f6e-d09f4ce086e4"
      },
      "outputs": [
        {
          "data": {
            "image/png": "[encoded data removed]",
            "text/plain": [
              "<Figure size 1080x360 with 3 Axes>"
            ]
          },
          "metadata": {
            "needs_background": "light"
          },
          "output_type": "display_data"
        }
      ],
      "source": [
        "from sklearn.feature_selection import f_regression, mutual_info_regression\n",
        "import matplotlib.pyplot as plt\n",
        "# Evaluación de atributos: F-Test.\n",
        "f_test, _ = f_regression(X, y)\n",
        "f_test /= np.max(f_test)\n",
        "# Evaluación de atributos: información mutua.\n",
        "mi = mutual_info_regression(X, y)\n",
        "mi /= np.max(mi)\n",
        "# Graficar distribución de los datos y evaluación de atributos.\n",
        "plt.figure(figsize=(15, 5))\n",
        "for i in range(3):\n",
        "    plt.subplot(1, 3, i + 1)\n",
        "    plt.scatter(X[:, i], y, edgecolor='black', s=20)\n",
        "    plt.xlabel(\"$x_{}$\".format(i + 1), fontsize=14)\n",
        "    if i == 0:\n",
        "        plt.ylabel(\"$y$\", fontsize=14)\n",
        "    plt.title(\"F-test={:.2f}, MI={:.2f}\".format(f_test[i],\n",
        "              mi[i]), fontsize=16)\n",
        "plt.show()"
      ]
    },
    {
      "cell_type": "markdown",
      "metadata": {
        "id": "qzMik3aancj9"
      },
      "source": [
        "#### 4) Comparación de modelos de clasifición mediante validación cruzada (2.5 puntos)\n",
        "Aplicar una validación cruzada interna de K=5 bolsas para optimizar y comparar la capacidad predictiva de los siguientes modelos: Regresión Logística y Support Vector Machine. La comparación debe realizarse únicamente en términos de exactitud proporcionando resultados de media +- desviación estándar."
      ]
    },
    {
      "cell_type": "code",
      "execution_count": null,
      "metadata": {
        "id": "u8QZHCUuncj-",
        "outputId": "5013e724-5d14-4e39-c534-c921cdac59fd"
      },
      "outputs": [
        {
          "name": "stdout",
          "output_type": "stream",
          "text": [
            "Resultados por bolsa:  [0.74683544 0.65822785 0.60759494 0.73076923 0.73076923]\n",
            "Accuracy (media +/- desv.): 0.6948 +/- 0.0534\n"
          ]
        }
      ],
      "source": [
        "from sklearn.dummy import DummyClassifier\n",
        "from sklearn.model_selection import cross_val_score\n",
        "from sklearn.model_selection import KFold\n",
        "from sklearn.model_selection import train_test_split\n",
        "# Construcción del algoritmo de aprendizaje.\n",
        "reg = linear_model.LinearRegression()\n",
        "# Veamos qué ocurre con un modelo más complejo que \"dummyclassifier\"\n",
        "# Hacemos el cross-validation interno para seleccionar los mejores hiperparámetros\n",
        "from sklearn.svm import SVC\n",
        "svc = SVC(C=0.5)\n",
        "results = cross_val_score(svc, X_training, y_training, cv = KFold(n_splits=5))\n",
        "print(\"Resultados por bolsa: \", results)\n",
        "print(\"Accuracy (media +/- desv.): %0.4f +/- %0.4f\" % (results.mean(), results.std()))"
      ]
    },
    {
      "cell_type": "code",
      "execution_count": null,
      "metadata": {
        "id": "HPU6KSVFnckB",
        "outputId": "f432bf4a-106b-49d1-96bd-3462fb40ac39"
      },
      "outputs": [
        {
          "name": "stdout",
          "output_type": "stream",
          "text": [
            "[[135  60]\n",
            " [ 64 134]]\n",
            "{'ACC': 0.6844783715012722, 'PREC': 0.6844783715012722, 'RECALL': 0.6844783715012722, 'F1': 0.6844783715012722}\n"
          ]
        }
      ],
      "source": [
        "#Regresión logística\n",
        "import sklearn.metrics as metrics\n",
        "from sklearn.datasets import load_iris\n",
        "from sklearn.linear_model import LogisticRegression\n",
        "from sklearn.model_selection import cross_val_predict, cross_val_score, train_test_split, KFold\n",
        "from sklearn import preprocessing\n",
        "from evaluacion_funciones import *\n",
        "\n",
        "# Métricas de evaluación.\n",
        "metricas = {\n",
        "  'ACC':    metrics.accuracy_score,\n",
        "  'PREC':   lambda y_true, y_pred:\n",
        "            metrics.precision_score(y_true, y_pred, average='micro'),\n",
        "  'RECALL': lambda y_true, y_pred:\n",
        "            metrics.recall_score(y_true, y_pred, average='micro'),\n",
        "  'F1':     lambda y_true, y_pred:\n",
        "            metrics.f1_score(y_true, y_pred, average='micro')}\n",
        "# Construcción del algoritmo de aprendizaje.\n",
        "algoritmos = {'LOGR': LogisticRegression(penalty='l2', solver='saga', max_iter=1000, random_state=42, multi_class='ovr')}\n",
        "# 5.1) Validación cruzada interna y Optimización de los hiperparámetros\n",
        "y_pred = {}\n",
        "for nombre, alg in algoritmos.items():\n",
        "    y_pred[nombre] = cross_val_predict(alg, X_stdr, y_training, cv=KFold(n_splits=10, shuffle=True, random_state=42))\n",
        "    results = evaluacion(y_training, y_pred[nombre], metricas)\n",
        "    print(metrics.confusion_matrix(y_training, y_pred[nombre]))\n",
        "    print(results)"
      ]
    },
    {
      "cell_type": "markdown",
      "metadata": {
        "id": "xC-EqUTDnckC"
      },
      "source": [
        "#### 5) Evaluación de los modelos sobre el conjunto de test (3 puntos)\n",
        "- Entrenar los modelos anteriores utilizando todos los datos de entrenamiento.\n",
        "- Evaluar su rendimiento sobre el conjunto de test.\n",
        "- Mostrar en una única figura la comparación de las curvas ROC obtenidas para cada modelo.\n",
        "- Crear una tabla donde se muestren los resultados de todos los modelos.\n",
        " * Las filas serán: Precisión, Sensibilidad, F-score, Exactitud y AUC\n",
        " * Las columnas serán: LR y SVM\n",
        "- Mostrar la matriz de confusión proporcionada por el mejor modelo. "
      ]
    },
    {
      "cell_type": "code",
      "execution_count": null,
      "metadata": {
        "id": "RV4QbFapnckC"
      },
      "outputs": [],
      "source": [
        ""
      ]
    }
  ],
  "metadata": {
    "kernelspec": {
      "display_name": "Python 3 (ipykernel)",
      "language": "python",
      "name": "python3"
    },
    "language_info": {
      "codemirror_mode": {
        "name": "ipython",
        "version": 3
      },
      "file_extension": ".py",
      "mimetype": "text/x-python",
      "name": "python",
      "nbconvert_exporter": "python",
      "pygments_lexer": "ipython3",
      "version": "3.9.6"
    },
    "colab": {
      "name": "Examen_C1 (1).ipynb",
      "provenance": [],
      "include_colab_link": true
    }
  },
  "nbformat": 4,
  "nbformat_minor": 0
}