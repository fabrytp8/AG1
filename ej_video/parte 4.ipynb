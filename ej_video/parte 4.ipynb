{
 "cells": [
  {
   "cell_type": "code",
   "execution_count": 1,
   "id": "de1350d8-3afe-40ca-aefd-2be3107b1098",
   "metadata": {},
   "outputs": [
    {
     "name": "stdout",
     "output_type": "stream",
     "text": [
      "(77, 23)\n",
      "[[1.42622951 1.         0.66428851 ... 0.06110283 0.03725782 0.0804769 ]\n",
      " [2.16393443 2.         1.08914657 ... 0.0564663  0.06010929 0.10746812]\n",
      " [1.08196721 1.         0.73093432 ... 0.06902502 0.09145816 0.11993098]\n",
      " ...\n",
      " [1.95081967 2.         0.8183596  ... 0.04262295 0.04262295 0.07377049]\n",
      " [1.75409836 2.         0.80277669 ... 0.06147541 0.04918033 0.09426229]\n",
      " [1.75409836 1.         2.17779959 ... 0.05269321 0.11065574 0.12002342]]\n"
     ]
    }
   ],
   "source": [
    "#cargar los datos de entrenamiento\n",
    "import numpy as np\n",
    "train_matrix = np.load('features/matriz_datos_train.npy')\n",
    "# print(train_matrix)\n",
    "#seleccionar características y target\n",
    "X_train = train_matrix[:,:-1]\n",
    "y_train = train_matrix[:, -1]\n",
    "print(np.shape(X_train))\n",
    "print(X_train)"
   ]
  },
  {
   "cell_type": "code",
   "execution_count": 2,
   "id": "ae68712a-5eb9-4ea8-8b7f-b714da639b5e",
   "metadata": {},
   "outputs": [],
   "source": [
    "#estandarización de datos de entrenamiento\n",
    "from sklearn.preprocessing import StandardScaler\n",
    "estandarizador = StandardScaler()\n",
    "estandarizador.fit(X_train)\n",
    "mu = estandarizador.mean_\n",
    "sigma = np.sqrt(estandarizador.var_)#raiz cuadrada de la varianza\n",
    "X_train = estandarizador.transform(X_train)\n",
    "# print(X_train[0])\n",
    "# print(X_train_new[0])\n"
   ]
  },
  {
   "cell_type": "code",
   "execution_count": 3,
   "id": "ecee9357-6e9f-46fa-a975-fec1a6517031",
   "metadata": {},
   "outputs": [
    {
     "name": "stdout",
     "output_type": "stream",
     "text": [
      "0: no normal ----1:si normal [0. 0. 0. 0. 0. 0. 0. 1. 1. 0. 0. 0. 1. 1. 1. 1. 1. 0. 1. 1. 1. 0. 0.]\n"
     ]
    }
   ],
   "source": [
    "#seleccion de los atributos (Características)\n",
    "#estudiar si las variables siguen una distribución normalde media y desviación tipica de 1 -->N(0,1)\n",
    "from scipy.stats import kstest # prueba de kolmovorov saber si sigue una distribución normal\n",
    "alpha = 0.01 #nivel de confianza del 99%\n",
    "h_norm = np.zeros(X_train.shape[1])\n",
    "for i in range(0, X_train.shape[1]):\n",
    "    _, pvalue = kstest(X_train[:, i], 'norm')\n",
    "    \n",
    "    #contraste de hipotesis\n",
    "    if pvalue <= alpha:\n",
    "        h_norm[i] =0 # los datos no siguen una distribución normal\n",
    "    else:\n",
    "        h_norm[i] = 1\n",
    "print('0: no normal ----1:si normal', h_norm)\n",
    "# print(X_train.shape)\n"
   ]
  },
  {
   "cell_type": "code",
   "execution_count": 4,
   "id": "e94c3445-cbbe-46dd-a573-53c9065d9b99",
   "metadata": {},
   "outputs": [],
   "source": [
    "def draw_boxplot(data1, data2, ticks):\n",
    "    import matplotlib.pyplot as plt\n",
    "    bpl = plt.boxplot(data1, positions=np.array(range(np.shape(data1)[1]))*2.0-0.4, sym='',widths=0.5,\\\n",
    "                     boxprops=dict(color='red'),\n",
    "                     capprops=dict(color='red'),\n",
    "                      whiskerprops=dict(color='red'),\n",
    "                      medianprops=dict(color='red'))\n",
    "    bpl = plt.boxplot(data2, positions=np.array(range(np.shape(data1)[1]))*2.0-0.4, sym='',widths=0.5,\\\n",
    "                     boxprops=dict(color='red'),\n",
    "                     capprops=dict(color='red'),\n",
    "                      whiskerprops=dict(color='red'),\n",
    "                      medianprops=dict(color='red'))\n",
    "    plt.plot([], c='#D7191C', label='Glaucoma')\n",
    "    plt.plot([], c='#2C7BB6', label='Healthy')\n",
    "    plt.legend()\n",
    "    \n",
    "    plt.xticks(range(0,len(ticks)*2,2), ticks)\n",
    "    plt.xlim(-2, len(ticks)*2)\n",
    "    plt.grid(True)\n",
    "    plt.title('características')\n",
    "    plt.show()\n",
    "                      "
   ]
  },
  {
   "cell_type": "code",
   "execution_count": 5,
   "id": "304fdb4e-8d29-4b44-afba-00d274370399",
   "metadata": {},
   "outputs": [
    {
     "name": "stdout",
     "output_type": "stream",
     "text": [
      "0: no discrimina, 1: si discrimina [0. 0. 1. 0. 0. 0. 0. 0. 0. 0. 0. 0. 0. 0. 0. 0. 1. 0. 0. 0. 0. 0. 0.]\n",
      "(77, 2)\n",
      "(2,)\n",
      "(2,)\n"
     ]
    },
    {
     "data": {
      "image/png": "[encoded data removed]",
      "text/plain": [
       "<Figure size 432x288 with 1 Axes>"
      ]
     },
     "metadata": {
      "needs_background": "light"
     },
     "output_type": "display_data"
    },
    {
     "name": "stdout",
     "output_type": "stream",
     "text": [
      "características discriminatorias:  ['std' 'LBP4']\n",
      "características no discriminatorias:  ['ASM' 'COR' 'E' 'LBP1' 'LBP10' 'LBP2' 'LBP3' 'LBP5' 'LBP6' 'LBP7' 'LBP8'\n",
      " 'LBP9' 'asim' 'con' 'curtosis' 'dis' 'homo' 'max' 'media' 'mediana' 'min']\n"
     ]
    }
   ],
   "source": [
    "#Estudiar la capacidad discrimiantiva de los atributos en función de su distribución\n",
    "from scipy.stats import ttest_ind, mannwhitneyu\n",
    "\n",
    "glaucoma_data = X_train[y_train==1]\n",
    "healthy_data = X_train[y_train==0]\n",
    "\n",
    "h= np.zeros(X_train.shape[1])\n",
    "h_disc = np.zeros(X_train.shape[1])\n",
    "\n",
    "for i in range(0, X_train.shape[1]):\n",
    "    if h_norm[i] ==0:#no es normal comparación de medianas mannwhitneyu\n",
    "        _, pvalue = mannwhitneyu(glaucoma_data[:,i], healthy_data[:,i])\n",
    "    else:#si es normal  comparación de medias ttest_ind\n",
    "        _, pvalue = ttest_ind(glaucoma_data[:,i], healthy_data[:,i])\n",
    "    #contraste de hipotesis, estudiar el poder discriminatorio de las caracterisiticas\n",
    "    #h0 independencia entre la característica y la clase \n",
    "    if pvalue<=alpha:\n",
    "        h_disc[i] = 1 # se rechaza la h0 y, por lo tanto, asumimos las dependecias entre las características y la clase\n",
    "    else:\n",
    "        h_disc[i]= 0 # no hay evidencia para rechazar la H0y por tanto asumimos que la característica y la clase son independientes\n",
    "\n",
    "print('0: no discrimina, 1: si discrimina', h_disc)\n",
    "#eliminando las variables que no son discriminatorias \n",
    "id_no_disc = np.where(h_disc==0)\n",
    "X_train_disc = np.delete(X_train,id_no_disc[0],axis=1)\n",
    "mu_disc = np.delete(mu, id_no_disc[0])\n",
    "sigma_disc = np.delete(sigma, id_no_disc[0])\n",
    "\n",
    "print(np.shape(X_train_disc))\n",
    "print(np.shape(mu_disc))\n",
    "print(np.shape(sigma_disc))\n",
    "\n",
    "#visualización\n",
    "original_ticks = ['media','mediana','std', 'asim','curtosis','min','max','con','dis','homo','ASM','E','COR',\n",
    "                 'LBP1','LBP2','LBP3','LBP4','LBP5','LBP6','LBP7','LBP8','LBP9','LBP10']\n",
    "draw_boxplot(glaucoma_data[:,:2], healthy_data[:,:2],original_ticks[:2])\n",
    "ticks = np.delete(original_ticks, id_no_disc[0] )\n",
    "print('características discriminatorias: ', ticks)\n",
    "print('características no discriminatorias: ', np.setdiff1d(original_ticks,ticks))\n"
   ]
  },
  {
   "cell_type": "code",
   "execution_count": 6,
   "id": "5b13dff5-b61f-4feb-80ee-3ab62455bb21",
   "metadata": {},
   "outputs": [
    {
     "data": {
      "image/png": "[encoded data removed]",
      "text/plain": [
       "<Figure size 432x288 with 1 Axes>"
      ]
     },
     "metadata": {
      "needs_background": "light"
     },
     "output_type": "display_data"
    },
    {
     "name": "stdout",
     "output_type": "stream",
     "text": [
      "Características correladas: []\n",
      "Características NO correladas: ['LBP4' 'std']\n",
      "(77, 2)\n"
     ]
    }
   ],
   "source": [
    "#realizar análisis de correlación para ver la dependencia entre pares de variables\n",
    "R = np.corrcoef(X_train_disc.transpose())\n",
    "import matplotlib.pyplot as plt\n",
    "plt.imshow(R, cmap='jet')\n",
    "plt.show()\n",
    "\n",
    "th_cor = 0.9\n",
    "idx = abs(R)>th_cor\n",
    "mat_tri_sup = np.triu(idx,1)\n",
    "# print(mat_tri_sup.astype('uint8'))\n",
    "row, col = np.where(mat_tri_sup == True)\n",
    "id_corr = np.unique(col)\n",
    "print('Características correladas:',ticks[id_corr])\n",
    "print('Características NO correladas:',np.setdiff1d(ticks,ticks[id_corr]))\n",
    "\n",
    "#eliminamos las variables correlacionadas\n",
    "X_final = np.delete(X_train_disc, id_corr, axis=1)\n",
    "mu_final = np.delete(mu_disc, id_corr)\n",
    "sigma_final = np.delete(sigma_disc,id_corr)\n",
    "ticks = np.delete(ticks, id_corr)\n",
    "\n",
    "print(np.shape(X_final))"
   ]
  },
  {
   "cell_type": "code",
   "execution_count": 7,
   "id": "f7417332-5e28-4617-af99-2a9cd3596d72",
   "metadata": {},
   "outputs": [],
   "source": [
    "# guardado de matriz final de características\n",
    "import os\n",
    "if not os.path.exists('final_features'):\n",
    "    os.mkdir('final_features')\n",
    "y_train_exp = np.expand_dims(y_train, axis = 1)\n",
    "train_natrix = np.concatenate((X_final, y_train_exp), axis=1)\n",
    "np.save('final_features/train.npy',train_matrix)\n",
    "# print(np.shape(X_final))\n",
    "# print(np.shape(y_train_exp))"
   ]
  },
  {
   "cell_type": "code",
   "execution_count": 8,
   "id": "ce94b00e-a228-4ddc-be92-2af6964365b8",
   "metadata": {},
   "outputs": [
    {
     "name": "stdout",
     "output_type": "stream",
     "text": [
      "(19, 2)\n"
     ]
    }
   ],
   "source": [
    "#repetir el proceso para la selección de las características del test\n",
    "\n",
    "test_matrix = np.load('features/matriz_datos_test.npy')\n",
    "\n",
    "#seleccionar las características y la clase\n",
    "X_test = test_matrix[:,:-1]\n",
    "y_test = test_matrix[:, -1]\n",
    "\n",
    "#eliminar las características que no son discriminatorias durante entrenamiento\n",
    "# id_no _disc\n",
    "X_test_disc = np.delete(X_test, id_no_disc[0], axis=1)\n",
    "\n",
    "#eliminar las características correladas durante entrenamiento \n",
    "#id_corr\n",
    "X_test_final = np.delete(X_test_disc, id_corr,axis=1)\n",
    "\n",
    "#estandarización de las características del test en base la mu y la sigma del entrenamiento\n",
    "X_test_final = (X_test_final - mu_final)/sigma_final\n",
    "\n",
    "#guardado de la matriz de datos de test\n",
    "y_test_exp = np.expand_dims(y_test, axis=1)\n",
    "test_matrxi = np.concatenate((X_test_final, y_test_exp), axis=1)\n",
    "\n",
    "np.save('final_features/test.npy',test_matrix)\n",
    "print(np.shape(X_test_final))\n"
   ]
  },
  {
   "cell_type": "code",
   "execution_count": null,
   "id": "d5c2d756-9cc3-4930-aa3e-2157838468e7",
   "metadata": {},
   "outputs": [],
   "source": []
  }
 ],
 "metadata": {
  "kernelspec": {
   "display_name": "Python 3 (ipykernel)",
   "language": "python",
   "name": "python3"
  },
  "language_info": {
   "codemirror_mode": {
    "name": "ipython",
    "version": 3
   },
   "file_extension": ".py",
   "mimetype": "text/x-python",
   "name": "python",
   "nbconvert_exporter": "python",
   "pygments_lexer": "ipython3",
   "version": "3.9.6"
  }
 },
 "nbformat": 4,
 "nbformat_minor": 5
}
