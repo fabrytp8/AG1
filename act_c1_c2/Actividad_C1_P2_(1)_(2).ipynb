{
  "cells": [
    {
      "cell_type": "markdown",
      "metadata": {
        "id": "view-in-github",
        "colab_type": "text"
      },
      "source": [
        "<a href=\"https://colab.research.google.com/github/fabrytp8/AG1/blob/main/act_c1_c2/Actividad_C1_P2_(1)_(2).ipynb\" target=\"_parent\"><img src=\"https://colab.research.google.com/assets/colab-badge.svg\" alt=\"Open In Colab\"/></a>"
      ]
    },
    {
      "cell_type": "markdown",
      "metadata": {
        "id": "ZSn_XfWXn5lq"
      },
      "source": [
        "## Convocatoria 1 - Proyecto 2"
      ]
    },
    {
      "cell_type": "markdown",
      "metadata": {
        "id": "6sducmD9n5lx"
      },
      "source": [
        "### Ejercicio 1 (4 puntos)\n",
        "Utilizar el conjunto de datos \"dataset_1.npy\" para resolver el ejercicio. Tener en cuenta que la última columna corresponde a la clase."
      ]
    },
    {
      "cell_type": "markdown",
      "metadata": {
        "tags": [],
        "id": "gYnhC-1On5ly"
      },
      "source": [
        "#### 1.a) Imputación de valores ausentes (2 puntos)\n",
        "\n",
        "- En aquellas instancias (filas) que contengan UN ÚNICO VALOR NaN en alguno de sus atributos (columnas), se imputará dicho valor.\n",
        " * Si el atributo corresponde a una variable discreta, se imputará el valor utilizando la moda de dicho atributo. \n",
        " * Si el atributo corresponde a una variable continua, se imputará el valor utilizando la media de dicho atributo. \n",
        "- Aquellas instancias (filas) que contengan MÁS DE UN VALOR NaN en sus atributos, deberán ser eliminadas por completo. \n",
        "\n",
        "Los outputs deberán ser: \n",
        "- Una matriz \"X\" de dimensiones M x N, donde M será el número de instancias y N, el de atributos.\n",
        "- Un vector \"y\" de dimensiones M. "
      ]
    },
    {
      "cell_type": "code",
      "execution_count": null,
      "metadata": {
        "id": "IafQYytnn5l0"
      },
      "outputs": [],
      "source": [
        "import numpy as np\n",
        "from sklearn.impute import SimpleImputer\n",
        "from sklearn.covariance import EllipticEnvelope\n",
        "import cv2\n",
        "import pandas as pd\n",
        "from scipy import stats\n",
        "from sklearn.model_selection import train_test_split, KFold\n",
        "from sklearn.preprocessing import StandardScaler\n",
        "from scipy.stats import kstest # Prueba de Kolmogorov-Smirnov\n",
        "import matplotlib.pyplot as plt\n",
        "\n",
        "#Modelado\n",
        "from math import sqrt\n",
        "from pprint import pprint\n",
        "from sklearn import datasets, linear_model, metrics\n",
        "from sklearn.dummy import DummyRegressor\n",
        "from sklearn.model_selection import cross_validate, KFold, cross_val_predict, train_test_split, cross_val_score\n",
        "from sklearn import preprocessing\n",
        "from sklearn.metrics import make_scorer, mean_squared_error\n",
        "import sklearn.metrics as metrics\n",
        "from sklearn.neighbors import KNeighborsRegressor\n",
        "from sklearn.feature_selection import SelectPercentile, f_regression\n"
      ]
    },
    {
      "cell_type": "code",
      "execution_count": null,
      "metadata": {
        "id": "6zo8NJl5n5l2",
        "outputId": "09f7bcdc-3caa-418e-fba2-ad5453516c13"
      },
      "outputs": [
        {
          "name": "stdout",
          "output_type": "stream",
          "text": [
            "[[ 0.          4.          1.         ...  9.04481012  8.2603626\n",
            "   7.37490176]\n",
            " [ 0.          4.          0.         ...  8.56908202 10.9370737\n",
            "  10.30131004]\n",
            " [ 0.          3.          1.         ...  9.68777842 10.69134847\n",
            "  11.45671439]\n",
            " ...\n",
            " [ 0.          2.          0.         ...  2.95882711  1.94458971\n",
            "   8.88390924]\n",
            " [ 0.          3.          2.         ...  2.95542398  1.92895933\n",
            "   9.03304966]\n",
            " [ 0.          4.          0.         ...  2.94928374  2.0478487\n",
            "   8.86096477]] [0. 0. 0. 0. 0. 0. 1. 0. 0. 0. 0. 0. 0. 0. 0. 1. 0. 0. 0. 1. 1. 0. 0. 0.\n",
            " 0. 0. 0. 1. 1. 0. 1. 1. 0. 0. 0. 1. 0. 0. 0. 0. 0. 0. 1. 1. 0. 0. 0. 1.\n",
            " 0. 1. 0. 0. 0. 0. 0. 0. 0. 0. 0. 1. 0. 0. 0. 1. 0. 0. 0. 0. 0. 0. 1. 0.\n",
            " 1. 0. 1. 0. 0. 0. 0. 0. 0. 1. 0. 1. 0. 0. 0. 1. 0. 0. 1. 0. 1. 1. 0. 1.\n",
            " 0. 0. 0. 0. 0. 0. 0. 0. 0. 0. 0. 1. 0. 0. 0. 0. 1. 0. 0. 0. 0. 0. 0. 0.\n",
            " 0. 0. 0. 0. 0. 1. 0. 0. 1. 0. 0. 1. 0. 0. 1. 0. 1. 0. 0. 0. 0. 0. 0. 0.\n",
            " 1. 0. 0. 0. 0. 0. 0. 0. 0. 1. 0. 0. 1. 0. 1. 1. 1. 0. 0. 0. 0. 1. 0. 0.\n",
            " 0. 0. 0. 1. 1. 1. 0. 0. 0. 1. 0. 0. 0. 0. 0. 0. 0. 0. 1. 0. 0. 0. 0. 0.\n",
            " 1. 1. 0. 0. 0. 1. 0. 0. 0. 0. 1. 0. 0. 0. 0. 1. 0. 0. 0. 1. 0. 0. 0. 0.\n",
            " 0. 1. 0. 0. 0. 0. 0. 1. 0. 0. 0. 0. 0. 0. 0. 0. 0. 0. 0. 1. 0. 1. 0. 1.\n",
            " 0. 0. 0. 1. 0. 0. 0. 1. 1. 1. 1. 1. 1. 1. 1. 1. 1. 1. 1. 1. 1. 1. 1. 1.\n",
            " 1. 1. 1. 1. 1. 1. 1. 1. 1. 1. 1. 1. 1. 1. 1. 1. 1. 1. 1. 1. 1. 1. 1. 1.\n",
            " 1. 1. 1. 1. 1. 1. 1. 1. 1. 1. 1. 1. 1. 1. 1. 1. 1. 1. 1. 1. 1. 1. 1. 1.\n",
            " 1. 1. 1. 1. 1. 1. 1. 1. 1. 1. 1. 1. 1. 1. 1. 1. 1. 1. 1. 1. 1. 1. 1. 1.\n",
            " 1. 1. 1. 1. 1. 1. 1. 1. 1. 1. 1. 1. 1. 1. 1. 1. 1. 1. 1. 1. 1. 1. 1. 1.\n",
            " 1. 1. 1. 1. 1. 1. 1. 1. 1. 1. 1. 1. 1. 1. 1. 1. 1. 1. 1. 1. 1. 1. 1. 1.\n",
            " 1. 1. 1. 1. 1. 1. 1. 1. 1. 1. 1. 1. 1. 1. 1. 1. 1. 1. 1. 1. 1. 1. 1. 1.\n",
            " 1. 1. 1. 1. 1. 1. 1. 0. 0. 0. 0. 0. 0. 0. 0. 0. 0. 0. 0. 0. 0. 0. 0. 0.\n",
            " 0. 0. 0. 0. 0. 0. 0. 0. 0. 0. 0. 0. 0. 0. 0. 0. 0. 0. 0. 0. 0. 0. 0. 0.\n",
            " 0. 0. 0. 0. 1. 1. 0. 0. 0. 1. 0. 1. 0. 1. 0. 0. 1. 1. 1. 1. 1. 1. 1. 1.\n",
            " 1. 1. 1. 1. 1. 0. 0. 1. 1. 0. 0. 1. 0. 1. 0.]\n"
          ]
        }
      ],
      "source": [
        "#Cargar datos\n",
        "ds=np.load('dataset/dataset_1.npy')\n",
        "# print(ds)\n",
        "df = pd.DataFrame(ds)\n",
        "df1 = df.dropna(subset=[1, 2], thresh=1)\n",
        "data = df1.to_numpy()\n",
        "#imputar media\n",
        "imp = SimpleImputer(strategy='mean')\n",
        "imputer_media = imp.fit(data)\n",
        "dataBorrado_media = imputer_media.transform(data) \n",
        "#imputar moda\n",
        "imp = SimpleImputer(strategy='most_frequent')\n",
        "imputer_frec = imp.fit(data)\n",
        "dataBorrado_frec = imputer_frec.transform(data) \n",
        "dataBorrado = data\n",
        "#reemplazar en columnas\n",
        "dataBorrado[:,range(5,8)] = dataBorrado_media[:,range(5,8)] \n",
        "dataBorrado[:,range(0,5)] = dataBorrado_frec[:,range(0,5)] \n",
        "#Crear las salidas\n",
        "X = dataBorrado[:,:-1]\n",
        "y = dataBorrado[:,-1]\n",
        "print(X,y)"
      ]
    },
    {
      "cell_type": "markdown",
      "metadata": {
        "id": "FC-fsczBn5l4"
      },
      "source": [
        "#### 1.b) Eliminación de valores outliers extremos (2 puntos)\n",
        "- Aplicar el método de Elliptic Envelope fijando una semilla en 42\n",
        "- Utilizar el diagrama de caja y bigotes para establecer los umbrales de decisión\n",
        "- Plotear el diagrama (box and whiskers) obtenido a partir de las puntuaciones calculadas con el método Elliptic Envelope\n",
        "- Eliminar las instancias que contengan valores outliers extremos\n",
        "\n",
        "Los outputs deberán ser: \n",
        "- Una matriz \"X\" de dimensiones M' x N, donde M' será el nuevo número de instancias y N, el de atributos.\n",
        "- Un vector \"y\" de dimensiones M'. "
      ]
    },
    {
      "cell_type": "code",
      "execution_count": null,
      "metadata": {
        "id": "yePt1Yc0n5l5",
        "outputId": "b1be0b7f-cd2e-4774-ec84-b86bc464ded4"
      },
      "outputs": [
        {
          "name": "stdout",
          "output_type": "stream",
          "text": [
            "[ 9.81944879e+01  1.02270720e+02  1.00352329e+02  1.06437602e+02\n",
            "  1.08660221e+02  1.04502175e+02  9.74355423e+01  1.01071997e+02\n",
            "  1.06221513e+02  1.03551472e+02  1.08102447e+02  1.00605960e+02\n",
            "  9.29790061e+01  1.05097683e+02  1.05155328e+02  1.08783442e+02\n",
            "  1.08298399e+02  1.07669970e+02  1.03471020e+02  1.02107259e+02\n",
            "  1.06904055e+02  1.01608285e+02  1.03037005e+02  1.06637216e+02\n",
            "  1.04879233e+02  1.07859294e+02  1.02786108e+02  1.03172242e+02\n",
            "  1.04489666e+02  1.06047729e+02  1.05325070e+02  1.01213783e+02\n",
            "  1.06874743e+02  1.02032012e+02  1.03124086e+02  1.08360970e+02\n",
            "  9.83270990e+01  1.07268697e+02  1.05107131e+02  1.02672109e+02\n",
            "  1.02742765e+02  1.06787920e+02  9.64197548e+01  1.03095753e+02\n",
            "  1.00600253e+02  9.82265550e+01  1.04747545e+02  1.02727919e+02\n",
            "  1.00641597e+02  1.08588893e+02  1.05069397e+02  1.07759375e+02\n",
            "  9.48919132e+01  1.02149748e+02  1.07485373e+02  1.01420636e+02\n",
            "  1.09322482e+02  1.01723175e+02  1.03736149e+02  1.02225691e+02\n",
            "  1.08317312e+02  1.06505648e+02  1.03481757e+02  1.06927745e+02\n",
            "  1.05658704e+02  1.05717799e+02  1.05970621e+02  8.66326799e+01\n",
            "  9.89649191e+01  1.07243841e+02  1.08551438e+02  1.03501269e+02\n",
            "  1.02003008e+02  1.07549507e+02  1.02357733e+02  1.03226758e+02\n",
            "  1.06454384e+02  1.06812424e+02  9.83060221e+01  9.64114038e+01\n",
            "  1.03087520e+02  1.06225652e+02  1.07280411e+02  1.07064926e+02\n",
            "  9.65675270e+01  1.07449245e+02  1.02603905e+02  1.04314538e+02\n",
            "  1.04392271e+02  9.98840685e+01  1.06002376e+02  1.04221024e+02\n",
            "  9.77871768e+01  9.53972301e+01  1.05408062e+02  1.04321472e+02\n",
            "  1.01799799e+02  1.07689646e+02  1.02873269e+02  1.07841315e+02\n",
            "  1.07549150e+02  1.05477084e+02  1.03873224e+02  1.02396454e+02\n",
            "  1.07838350e+02  1.03725381e+02  9.92466385e+01  1.05621343e+02\n",
            "  9.66454103e+01  9.54571562e+01  1.04742745e+02  1.04606273e+02\n",
            "  1.03906137e+02  1.08191153e+02  1.08907814e+02  1.03204275e+02\n",
            "  1.04307713e+02  1.08508910e+02  1.06187241e+02  1.02462135e+02\n",
            "  1.00690002e+02  1.09317572e+02  1.02752988e+02  1.05386137e+02\n",
            "  1.04040012e+02  1.05798638e+02  1.06055560e+02  1.05328381e+02\n",
            "  1.04805635e+02  1.03117049e+02  1.04217809e+02  1.08698741e+02\n",
            "  1.04540430e+02  1.00198348e+02  1.00501668e+02  1.06356261e+02\n",
            "  1.03329808e+02  1.01345628e+02  1.09655227e+02  1.05510240e+02\n",
            "  1.04772637e+02  1.06646671e+02  1.01568733e+02  1.08494036e+02\n",
            "  1.05979197e+02  1.04332300e+02  1.05451026e+02  1.05008328e+02\n",
            "  1.05515691e+02  9.65101539e+01  1.02367270e+02  1.04860331e+02\n",
            "  1.06034919e+02  1.06336912e+02  1.05756211e+02  1.08431862e+02\n",
            "  1.00453411e+02  1.01177750e+02  1.03593854e+02  1.07133694e+02\n",
            "  1.06917023e+02  1.06797475e+02  1.07555510e+02  1.03625326e+02\n",
            "  1.05937259e+02  1.06639783e+02  1.08834756e+02  9.99377761e+01\n",
            "  1.02689659e+02  1.04331326e+02  1.00134098e+02  1.06882975e+02\n",
            "  1.06234322e+02  1.04773535e+02  1.01697996e+02  1.04282208e+02\n",
            "  1.06320250e+02  1.06827221e+02  1.03602330e+02  9.90083235e+01\n",
            "  1.01921068e+02  1.03365295e+02  1.03836045e+02  1.01457185e+02\n",
            "  1.06527801e+02  1.03465622e+02  1.05207262e+02  1.04205734e+02\n",
            "  1.08269822e+02  1.09248827e+02  1.00348526e+02  1.02812795e+02\n",
            "  9.79111022e+01  9.62186264e+01  1.01958092e+02  1.03249233e+02\n",
            "  1.04210740e+02  1.06332871e+02  1.05370400e+02  1.06775046e+02\n",
            "  1.02469668e+02  1.05141938e+02  9.64576821e+01  1.00602956e+02\n",
            "  1.06329198e+02  1.05146411e+02  1.04359903e+02  1.07390934e+02\n",
            "  1.05097902e+02  9.94537586e+01  1.04087316e+02  1.06217298e+02\n",
            "  1.07969899e+02  1.06117310e+02  1.07269338e+02  1.03690602e+02\n",
            "  1.00407839e+02  9.95781095e+01  1.08880928e+02  1.02993222e+02\n",
            "  1.08474299e+02  1.03094481e+02  1.07324729e+02  1.05319946e+02\n",
            "  1.04403290e+02  1.03395258e+02  1.08267619e+02  1.06667746e+02\n",
            "  1.08101583e+02  1.08401643e+02  1.04269057e+02  1.01806079e+02\n",
            "  1.03351671e+02  1.08579087e+02  9.94115108e+01  1.03614883e+02\n",
            "  1.07060067e+02  1.02099086e+02  1.05199279e+02  1.04341382e+02\n",
            "  1.01099284e+02  1.06798312e+02  1.03051478e+02  9.85409900e+01\n",
            "  1.04495907e+02  1.05100057e+02  1.03737046e+02  1.02000236e+02\n",
            "  9.25623157e+01  1.04538816e+02  1.02146741e+02  1.05321028e+02\n",
            "  9.77693431e+01  1.00222577e+02  9.91441976e+01  9.98732758e+01\n",
            "  9.84720578e+01  1.03655580e+02  9.83671722e+01  9.47871045e+01\n",
            "  9.78797130e+01  1.04060321e+02  9.74601182e+01  1.04522212e+02\n",
            "  1.01579919e+02  1.04709968e+02  9.65979235e+01  1.06381261e+02\n",
            "  1.02543422e+02  1.01871506e+02  1.04574295e+02  1.03689139e+02\n",
            "  1.03467112e+02  9.88929135e+01  9.32268375e+01  1.00151866e+02\n",
            "  1.02446732e+02  1.01761673e+02  1.02150906e+02  1.05115249e+02\n",
            "  1.05088664e+02  9.91611243e+01  1.01315930e+02  1.00963734e+02\n",
            "  1.01945253e+02  9.95381496e+01  1.02915088e+02  1.01114702e+02\n",
            "  9.83179448e+01  9.78179883e+01  9.60270234e+01  1.04004339e+02\n",
            "  9.58537554e+01  9.52877467e+01  1.03674265e+02  1.03682652e+02\n",
            "  1.03310814e+02  9.28991706e+01  1.03240319e+02  9.96291645e+01\n",
            "  1.03691348e+02  1.01339200e+02  9.63704902e+01  9.61992697e+01\n",
            "  1.05695849e+02  9.80046606e+01  1.02074622e+02  1.05331845e+02\n",
            "  1.03916484e+02  1.02371572e+02  1.02735010e+02  9.98647403e+01\n",
            "  1.00918089e+02  1.04362965e+02  1.01801367e+02  1.04686969e+02\n",
            "  9.93163546e+01  9.74943719e+01  9.61302794e+01  1.01464836e+02\n",
            "  1.05218744e+02  1.02979444e+02  1.02212213e+02  9.83285184e+01\n",
            "  1.03088961e+02  1.03968076e+02  9.97588487e+01  1.04282338e+02\n",
            "  1.04241007e+02  1.01024185e+02  9.50875801e+01  8.81522688e+01\n",
            "  1.05222357e+02  1.05159804e+02  1.01274658e+02  1.04057839e+02\n",
            "  1.03017754e+02  9.86249996e+01  9.83718750e+01  1.00971423e+02\n",
            "  9.40982370e+01  1.04125337e+02  1.00917030e+02  9.71560702e+01\n",
            "  1.00539920e+02  1.01252215e+02  1.02593676e+02  9.42091427e+01\n",
            "  9.61956675e+01  1.05159499e+02  9.73572715e+01  1.01332134e+02\n",
            "  9.80340641e+01  9.92395612e+01  1.00400919e+02  1.04616633e+02\n",
            "  1.03515637e+02  1.00803958e+02  9.83992503e+01  1.01035315e+02\n",
            "  1.02685825e+02  1.01740817e+02  1.05638354e+02  9.91590594e+01\n",
            "  1.05076001e+02  9.97759134e+01  1.01692021e+02  1.06163624e+02\n",
            "  1.02984753e+02  1.03798424e+02  9.73918323e+01  2.76704091e+00\n",
            "  2.74822443e+00  2.80769949e+00 -1.73778074e+00  4.05426841e+00\n",
            " -2.05600069e+00  3.04525511e+00  2.49740716e+00  1.92513376e+00\n",
            "  7.12136082e+00 -1.91266396e+00 -3.40352340e+00 -2.37556997e+00\n",
            " -2.15727220e+00  5.58500776e+00 -3.03326852e+00 -1.30927278e+00\n",
            "  1.33228424e+00  4.72598153e-02  5.63119905e+00  1.10040344e-01\n",
            "  6.71704479e+00  3.71997717e+00 -3.15065435e-02  7.63256017e+00\n",
            "  7.76462381e+00 -2.68288969e+00  3.41102188e+00  8.62839148e+00\n",
            " -2.08906580e+00  5.46704967e+00  8.92099230e+00  2.94167142e+00\n",
            "  9.78947082e-01  3.91618389e+00  3.32795542e+00  1.96572889e+00\n",
            "  3.42135468e+00 -2.75064922e+00  1.17430678e+00  2.04862146e-01\n",
            " -4.47367602e+00  6.24861117e+00 -5.93407225e+00  2.00153024e+00\n",
            " -3.76887298e+00 -1.38279978e+01  5.32660065e-01 -1.47522748e+00\n",
            " -9.51108526e+00 -3.97608919e+00 -5.69466663e+00 -1.17114509e+01\n",
            " -2.69219113e+00 -1.49433406e+00 -2.24332344e+00 -3.30075575e+00\n",
            " -4.65238277e+00 -5.17494601e+00  2.42686114e+00 -3.31819365e+00\n",
            " -2.73228359e+00 -1.04595016e+01 -1.44187005e+00 -8.39844773e+00\n",
            " -3.06116453e+00 -5.27549678e+00 -6.21870605e+00 -2.45504376e+00\n",
            " -5.15560713e+00 -4.56493793e+00 -2.03779462e+00 -6.50546081e+00\n",
            " -2.69618083e+00 -5.63920007e+00 -5.04443963e+00 -4.73647472e+00\n",
            "  1.18086326e+00 -1.99582408e+01 -2.63202456e+00 -2.17984599e+00\n",
            " -7.37819191e+00 -7.71782206e+00 -1.29480969e+00  5.54262741e+01\n",
            "  6.53551288e+01  5.68786167e+01  6.26674606e+01  5.74592553e+01\n",
            "  5.99470748e+01  6.02105887e+01  5.61876612e+01  5.91168168e+01\n",
            "  5.88272466e+01  6.09604451e+01  6.11365932e+01  6.25797113e+01\n",
            "  5.55533019e+01  6.13007632e+01  5.26378137e+01  6.12082523e+01\n",
            "  5.74479774e+01  5.88896003e+01  6.30931670e+01  5.86454909e+01\n",
            "  5.95281356e+01  6.16821678e+01  6.19447831e+01  6.01598501e+01\n",
            "  5.92973366e+01  6.22642682e+01  6.00979470e+01  5.90589120e+01\n",
            "  6.15413854e+01  6.20449023e+01  5.89524220e+01  6.13819119e+01\n",
            "  5.87728930e+01  5.89388768e+01  5.63242891e+01  6.01589531e+01\n",
            "  6.05430670e+01  6.01876678e+01  5.81734845e+01]\n",
            "(495,)\n"
          ]
        },
        {
          "name": "stderr",
          "output_type": "stream",
          "text": [
            "c:\\users\\fabry\\appdata\\local\\programs\\python\\python39\\lib\\site-packages\\sklearn\\covariance\\_robust_covariance.py:183: RuntimeWarning: Determinant has increased; this should not happen: log(det) > log(previous_det) (-37.889249119839569 > -38.556256515165600). You may want to try with a higher value of support_fraction (current value: 0.511).\n",
            "  warnings.warn(\n",
            "c:\\users\\fabry\\appdata\\local\\programs\\python\\python39\\lib\\site-packages\\sklearn\\covariance\\_robust_covariance.py:183: RuntimeWarning: Determinant has increased; this should not happen: log(det) > log(previous_det) (-38.260275702351642 > -40.238554105222072). You may want to try with a higher value of support_fraction (current value: 0.511).\n",
            "  warnings.warn(\n"
          ]
        }
      ],
      "source": [
        "#Detección de outliers.\n",
        "df2 = pd.DataFrame(dataBorrado)\n",
        "outlier_method = EllipticEnvelope(random_state = 42).fit(df2)\n",
        "scores_pred = outlier_method.decision_function(df2)\n",
        "print(scores_pred)\n",
        "print(np.shape(scores_pred))"
      ]
    },
    {
      "cell_type": "code",
      "execution_count": null,
      "metadata": {
        "id": "5PJIbF1Vn5l6",
        "outputId": "e23208a7-9f4f-4b2a-bd9d-6481e9c65ad5"
      },
      "outputs": [
        {
          "name": "stdout",
          "output_type": "stream",
          "text": [
            "limite inferior:  -10.633728876286\n",
            "limite superior:  191.4974153227452\n"
          ]
        },
        {
          "data": {
            "image/png": "[encoded data removed]",
            "text/plain": [
              "<Figure size 432x288 with 1 Axes>"
            ]
          },
          "metadata": {
            "needs_background": "light"
          },
          "output_type": "display_data"
        }
      ],
      "source": [
        "# Seleccionamos manualmente los umbrales a partir de los cuales vamos a determinar qué valores son outliers y cuáles no. \n",
        "Q1 = stats.scoreatpercentile(scores_pred, 25)\n",
        "Q3 = stats.scoreatpercentile(scores_pred, 75)\n",
        "RIC = Q3 - Q1\n",
        "li = Q1 - 3*RIC #xmin\n",
        "ls = Q3 + 3*RIC #xmax\n",
        "\n",
        "print('limite inferior: ', li)\n",
        "print('limite superior: ', ls)\n",
        "\n",
        "import matplotlib.pyplot as plt\n",
        "prop = plt.boxplot(scores_pred)\n",
        "plt.boxplot(scores_pred)\n",
        "plt.show()"
      ]
    },
    {
      "cell_type": "code",
      "execution_count": null,
      "metadata": {
        "id": "ml1BleIrn5l7",
        "outputId": "cca883f6-126d-4c18-f3e5-a3f519b1beba"
      },
      "outputs": [
        {
          "name": "stdout",
          "output_type": "stream",
          "text": [
            "Posición de outliers en el extremo inferior:  [417 423 449]\n",
            "Posición de outliers en el extremo superior:  []\n",
            "(492, 8) (492,)\n"
          ]
        }
      ],
      "source": [
        "pos_i = np.where(scores_pred<li)\n",
        "pos_s = np.where(scores_pred>ls)\n",
        "print('Posición de outliers en el extremo inferior: ', pos_i[0])\n",
        "print('Posición de outliers en el extremo superior: ', pos_s[0])\n",
        "\n",
        "#Eliminación de outliers\n",
        "dataOut = np.delete(dataBorrado, pos_i[0] ,axis = 0)\n",
        "\n",
        "#Los outputs deberán ser:\n",
        "X_mn = dataOut[:,:-1]\n",
        "y_m = dataOut[:,-1]\n",
        "print(np.shape(X_mn),np.shape(y_m))"
      ]
    },
    {
      "cell_type": "markdown",
      "metadata": {
        "id": "-yggHnoAn5l8"
      },
      "source": [
        "### Ejercicio 2 (6 puntos)"
      ]
    },
    {
      "cell_type": "markdown",
      "metadata": {
        "id": "-L7aegOYn5l9"
      },
      "source": [
        "Crear un programa, con comentarios que aclaren el código, donde se computen las métricas MAE, MSE, RMSE, MAPE y R2 aplicando los regresores OLS y KNN en DOS datasets de regresión (a elegir). Nota: Al menos uno de los datasets deberá ser externo a la librería de scikit-learn.\n",
        "\n",
        "Se debe llevar a cabo:\n",
        "- Exploración de los datos y descripción del dataset\n",
        "- Tratamiento de outliers y valores perdidos (si los hay)\n",
        "- Partición externa de datos\n",
        "- Estandarización de los datos\n",
        "- Selección de atributos mediante métodos supervisados (solo uno)\n",
        "- Validación cruzada interna para optimizar los hiperparámetros de los algoritmos (si procede)\n",
        "- Modelado\n",
        "- Predicción y evaluación sobre el conjunto de test (resultados cuantitativos y cualitativos)\n",
        "- Breve discusión comparando los resultados obtenidos con cada método."
      ]
    },
    {
      "cell_type": "markdown",
      "metadata": {
        "id": "1HX_l5KFn5l-"
      },
      "source": [
        "Dataset -- Espectativa de vida a nivel mundial <br>\n",
        "https://www.kaggle.com/kumarajarshi/life-expectancy-who\n"
      ]
    },
    {
      "cell_type": "code",
      "execution_count": null,
      "metadata": {
        "id": "LZgAWzimn5l-",
        "outputId": "0cf0efc8-a8d5-46f8-8a92-10b13a32fd60"
      },
      "outputs": [
        {
          "name": "stdout",
          "output_type": "stream",
          "text": [
            "          Country  Year      Status  Life expectancy   Adult Mortality  \\\n",
            "0     Afghanistan  2015  Developing              65.0            263.0   \n",
            "1     Afghanistan  2014  Developing              59.9            271.0   \n",
            "2     Afghanistan  2013  Developing              59.9            268.0   \n",
            "3     Afghanistan  2012  Developing              59.5            272.0   \n",
            "4     Afghanistan  2011  Developing              59.2            275.0   \n",
            "...           ...   ...         ...               ...              ...   \n",
            "2933     Zimbabwe  2004  Developing              44.3            723.0   \n",
            "2934     Zimbabwe  2003  Developing              44.5            715.0   \n",
            "2935     Zimbabwe  2002  Developing              44.8             73.0   \n",
            "2936     Zimbabwe  2001  Developing              45.3            686.0   \n",
            "2937     Zimbabwe  2000  Developing              46.0            665.0   \n",
            "\n",
            "      infant deaths  Alcohol  percentage expenditure  Hepatitis B  Measles   \\\n",
            "0                62     0.01               71.279624         65.0      1154   \n",
            "1                64     0.01               73.523582         62.0       492   \n",
            "2                66     0.01               73.219243         64.0       430   \n",
            "3                69     0.01               78.184215         67.0      2787   \n",
            "4                71     0.01                7.097109         68.0      3013   \n",
            "...             ...      ...                     ...          ...       ...   \n",
            "2933             27     4.36                0.000000         68.0        31   \n",
            "2934             26     4.06                0.000000          7.0       998   \n",
            "2935             25     4.43                0.000000         73.0       304   \n",
            "2936             25     1.72                0.000000         76.0       529   \n",
            "2937             24     1.68                0.000000         79.0      1483   \n",
            "\n",
            "      ...  Polio  Total expenditure  Diphtheria    HIV/AIDS         GDP  \\\n",
            "0     ...    6.0               8.16         65.0        0.1  584.259210   \n",
            "1     ...   58.0               8.18         62.0        0.1  612.696514   \n",
            "2     ...   62.0               8.13         64.0        0.1  631.744976   \n",
            "3     ...   67.0               8.52         67.0        0.1  669.959000   \n",
            "4     ...   68.0               7.87         68.0        0.1   63.537231   \n",
            "...   ...    ...                ...          ...        ...         ...   \n",
            "2933  ...   67.0               7.13         65.0       33.6  454.366654   \n",
            "2934  ...    7.0               6.52         68.0       36.7  453.351155   \n",
            "2935  ...   73.0               6.53         71.0       39.8   57.348340   \n",
            "2936  ...   76.0               6.16         75.0       42.1  548.587312   \n",
            "2937  ...   78.0               7.10         78.0       43.5  547.358878   \n",
            "\n",
            "      Population   thinness  1-19 years   thinness 5-9 years  \\\n",
            "0     33736494.0                   17.2                 17.3   \n",
            "1       327582.0                   17.5                 17.5   \n",
            "2     31731688.0                   17.7                 17.7   \n",
            "3      3696958.0                   17.9                 18.0   \n",
            "4      2978599.0                   18.2                 18.2   \n",
            "...          ...                    ...                  ...   \n",
            "2933  12777511.0                    9.4                  9.4   \n",
            "2934  12633897.0                    9.8                  9.9   \n",
            "2935    125525.0                    1.2                  1.3   \n",
            "2936  12366165.0                    1.6                  1.7   \n",
            "2937  12222251.0                   11.0                 11.2   \n",
            "\n",
            "      Income composition of resources  Schooling  \n",
            "0                               0.479       10.1  \n",
            "1                               0.476       10.0  \n",
            "2                               0.470        9.9  \n",
            "3                               0.463        9.8  \n",
            "4                               0.454        9.5  \n",
            "...                               ...        ...  \n",
            "2933                            0.407        9.2  \n",
            "2934                            0.418        9.5  \n",
            "2935                            0.427       10.0  \n",
            "2936                            0.427        9.8  \n",
            "2937                            0.434        9.8  \n",
            "\n",
            "[2938 rows x 22 columns]\n"
          ]
        }
      ],
      "source": [
        "import numpy as np\n",
        "from sklearn.impute import SimpleImputer\n",
        "from sklearn.covariance import EllipticEnvelope\n",
        "import cv2\n",
        "import pandas as pd\n",
        "from scipy import stats\n",
        "# https://www.kaggle.com/kumarajarshi/life-expectancy-who\n",
        "df = pd.read_csv('Life Expectancy Data.csv',sep=',')\n",
        "print(df)"
      ]
    },
    {
      "cell_type": "code",
      "execution_count": null,
      "metadata": {
        "id": "UEQ8b9ran5l_",
        "outputId": "fd036b80-e084-4bf3-eec8-9063d385bda1"
      },
      "outputs": [
        {
          "name": "stdout",
          "output_type": "stream",
          "text": [
            "Country                              0\n",
            "Year                                 0\n",
            "Status                               0\n",
            "Life expectancy                     10\n",
            "Adult Mortality                     10\n",
            "infant deaths                        0\n",
            "Alcohol                            194\n",
            "percentage expenditure               0\n",
            "Hepatitis B                        553\n",
            "Measles                              0\n",
            " BMI                                34\n",
            "under-five deaths                    0\n",
            "Polio                               19\n",
            "Total expenditure                  226\n",
            "Diphtheria                          19\n",
            " HIV/AIDS                            0\n",
            "GDP                                448\n",
            "Population                         652\n",
            " thinness  1-19 years               34\n",
            " thinness 5-9 years                 34\n",
            "Income composition of resources    167\n",
            "Schooling                          163\n",
            "dtype: int64\n"
          ]
        }
      ],
      "source": [
        "#Existe elementos vacíos en los atributos\n",
        "print(df.isnull().sum()) "
      ]
    },
    {
      "cell_type": "code",
      "execution_count": null,
      "metadata": {
        "id": "3CVWzfenn5mA",
        "outputId": "87fac828-724c-4771-f3d0-0504b7952864"
      },
      "outputs": [
        {
          "name": "stdout",
          "output_type": "stream",
          "text": [
            "               0     1           2     3      4   5     6          7     8   \\\n",
            "0     Afghanistan  2015  Developing  65.0  263.0  62  0.01  71.279624  65.0   \n",
            "1     Afghanistan  2014  Developing  59.9  271.0  64  0.01  73.523582  62.0   \n",
            "2     Afghanistan  2013  Developing  59.9  268.0  66  0.01  73.219243  64.0   \n",
            "3     Afghanistan  2012  Developing  59.5  272.0  69  0.01  78.184215  67.0   \n",
            "4     Afghanistan  2011  Developing  59.2  275.0  71  0.01   7.097109  68.0   \n",
            "...           ...   ...         ...   ...    ...  ..   ...        ...   ...   \n",
            "2933     Zimbabwe  2004  Developing  44.3  723.0  27  4.36        0.0  68.0   \n",
            "2934     Zimbabwe  2003  Developing  44.5  715.0  26  4.06        0.0   7.0   \n",
            "2935     Zimbabwe  2002  Developing  44.8   73.0  25  4.43        0.0  73.0   \n",
            "2936     Zimbabwe  2001  Developing  45.3  686.0  25  1.72        0.0  76.0   \n",
            "2937     Zimbabwe  2000  Developing  46.0  665.0  24  1.68        0.0  79.0   \n",
            "\n",
            "        9   ...    12    13    14    15          16          17    18    19  \\\n",
            "0     1154  ...   6.0  8.16  65.0   0.1   584.25921  33736494.0  17.2  17.3   \n",
            "1      492  ...  58.0  8.18  62.0   0.1  612.696514    327582.0  17.5  17.5   \n",
            "2      430  ...  62.0  8.13  64.0   0.1  631.744976  31731688.0  17.7  17.7   \n",
            "3     2787  ...  67.0  8.52  67.0   0.1     669.959   3696958.0  17.9  18.0   \n",
            "4     3013  ...  68.0  7.87  68.0   0.1   63.537231   2978599.0  18.2  18.2   \n",
            "...    ...  ...   ...   ...   ...   ...         ...         ...   ...   ...   \n",
            "2933    31  ...  67.0  7.13  65.0  33.6  454.366654  12777511.0   9.4   9.4   \n",
            "2934   998  ...   7.0  6.52  68.0  36.7  453.351155  12633897.0   9.8   9.9   \n",
            "2935   304  ...  73.0  6.53  71.0  39.8    57.34834    125525.0   1.2   1.3   \n",
            "2936   529  ...  76.0  6.16  75.0  42.1  548.587312  12366165.0   1.6   1.7   \n",
            "2937  1483  ...  78.0   7.1  78.0  43.5  547.358878  12222251.0  11.0  11.2   \n",
            "\n",
            "         20    21  \n",
            "0     0.479  10.1  \n",
            "1     0.476  10.0  \n",
            "2      0.47   9.9  \n",
            "3     0.463   9.8  \n",
            "4     0.454   9.5  \n",
            "...     ...   ...  \n",
            "2933  0.407   9.2  \n",
            "2934  0.418   9.5  \n",
            "2935  0.427  10.0  \n",
            "2936  0.427   9.8  \n",
            "2937  0.434   9.8  \n",
            "\n",
            "[2938 rows x 22 columns]\n"
          ]
        }
      ],
      "source": [
        "#Imputación de valores ausentes\n",
        "#Con los elementos de mas frecuencia\n",
        "df1 =df.to_numpy()\n",
        "imp = SimpleImputer(strategy='most_frequent')\n",
        "imputer_entrenado = imp.fit(df1)\n",
        "data_borrado = imputer_entrenado.transform(df1)\n",
        "df=pd.DataFrame(data_borrado)\n",
        "print(df)"
      ]
    },
    {
      "cell_type": "code",
      "execution_count": null,
      "metadata": {
        "id": "XrUWm199n5mB",
        "outputId": "8e63ceb1-40c1-4317-b4cf-10d6db5b4112"
      },
      "outputs": [
        {
          "name": "stdout",
          "output_type": "stream",
          "text": [
            "        1     3      4   5     6           7     8     9     10  11    12  \\\n",
            "0     2015  65.0  263.0  62  0.01   71.279624  65.0  1154  19.1  83   6.0   \n",
            "16    2015  77.8   74.0   0   4.6  364.975229  99.0     0  58.0   0  99.0   \n",
            "32    2015  75.6   19.0  21  0.01         0.0  95.0    63  59.5  24  95.0   \n",
            "48    2015  52.4  335.0  66  0.01         0.0  64.0   118  23.3  98   7.0   \n",
            "64    2015  76.4   13.0   0  0.01         0.0  99.0     0  47.7   0  86.0   \n",
            "...    ...   ...    ...  ..   ...         ...   ...   ...   ...  ..   ...   \n",
            "2858  2015  74.1  157.0   9  0.01         0.0  87.0     0  62.1  10  87.0   \n",
            "2874  2015  76.0  127.0  28  0.01         0.0  97.0   256  17.5  35  97.0   \n",
            "2890  2015  65.7  224.0  37  0.01         0.0  69.0   468  41.3  47  63.0   \n",
            "2906  2015  61.8   33.0  27  0.01         0.0   9.0     9  23.4  40   9.0   \n",
            "2922  2015  67.0  336.0  22  0.01         0.0  87.0     0  31.8  32  88.0   \n",
            "\n",
            "        13    14   15           16          17    18    19     20    21  \n",
            "0     8.16  65.0  0.1    584.25921  33736494.0  17.2  17.3  0.479  10.1  \n",
            "16     6.0  99.0  0.1   3954.22783     28873.0   1.2   1.3  0.762  14.2  \n",
            "32     4.6  95.0  0.1   4132.76292  39871528.0   6.0   5.8  0.743  14.4  \n",
            "48     4.6  64.0  1.9  3695.793748   2785935.0   8.3   8.2  0.531  11.4  \n",
            "64     4.6  99.0  0.2   13566.9541       444.0   3.3   3.3  0.784  13.9  \n",
            "...    ...   ...  ...          ...         ...   ...   ...    ...   ...  \n",
            "2858   4.6  87.0  0.1      1.68135       444.0   1.6   1.5  0.769  14.3  \n",
            "2874   4.6  97.0  0.1      1.68135       444.0  14.2  14.5  0.678  12.6  \n",
            "2890   4.6  69.0  0.1      1.68135       444.0  13.6  13.4  0.499   9.0  \n",
            "2906   4.6   9.0  4.1  1313.889646    161587.0   6.3   6.1  0.576  12.5  \n",
            "2922   4.6  87.0  6.2    118.69383  15777451.0   5.6   5.5  0.507  10.3  \n",
            "\n",
            "[183 rows x 20 columns]\n"
          ]
        },
        {
          "data": {
            "text/plain": [
              "71.61693989071038"
            ]
          },
          "execution_count": 223,
          "metadata": {},
          "output_type": "execute_result"
        }
      ],
      "source": [
        "#El dataset entrega por país información desde el año 2000 al 2015\n",
        "#Para el análisis se escoge un solo año para todos los paises\n",
        "# se crea la mascara para el año 2015 y se elimina columnas de nombres de paises para que quede solo\n",
        "#variables numéricas\n",
        "from statistics import mean\n",
        "mask = df[1] == 2015\n",
        "df3=df[mask]\n",
        "df3.drop([0], axis=1)\n",
        "del(df3[0])\n",
        "del(df3[2])\n",
        "data=df3.to_numpy()\n",
        "print(df3)\n",
        "mean(df3[3])"
      ]
    },
    {
      "cell_type": "code",
      "execution_count": null,
      "metadata": {
        "id": "HFhWOWEHn5mC",
        "outputId": "e2d0838a-72e5-4066-a0a9-0dbada75adf2"
      },
      "outputs": [
        {
          "name": "stdout",
          "output_type": "stream",
          "text": [
            "(183, 19) (183,)\n"
          ]
        }
      ],
      "source": [
        "#Outputs\n",
        "X_matrix = data[:,:-1]\n",
        "y_matrix = data[:,-1]\n",
        "\n",
        "print(np.shape(X_matrix),np.shape(y_matrix))"
      ]
    },
    {
      "cell_type": "code",
      "execution_count": null,
      "metadata": {
        "id": "YUNTL2uwn5mD",
        "outputId": "067477ba-97e1-4159-9e2c-1e64a57da476"
      },
      "outputs": [
        {
          "name": "stdout",
          "output_type": "stream",
          "text": [
            "[ 4.88925566e+02  1.14654497e+03  1.23635318e+03  6.02392085e+02\n",
            "  1.22388332e+03  1.24294827e+03  1.25727265e+03  1.17158912e+03\n",
            "  1.20445799e+03  1.25597582e+03  1.25530533e+03  1.24575476e+03\n",
            "  1.09589556e+03  1.25525254e+03  1.25394481e+03  1.25525357e+03\n",
            "  1.25235091e+03  1.24512847e+03  1.21131079e+03  1.25144089e+03\n",
            "  1.14245883e+03  1.25454511e+03  1.20423157e+03  1.25614536e+03\n",
            "  1.25752916e+03  1.12889935e+03  1.25177916e+03  1.21355374e+03\n",
            "  1.25383870e+03  1.25102358e+03  1.09720816e+03  7.90303915e+02\n",
            "  1.23193966e+03  1.12880325e+03  1.25103461e+03 -7.10275334e+04\n",
            "  1.23811555e+03  1.25459015e+03  1.10972788e+03  1.24866130e+03\n",
            "  1.25651082e+03  1.25661073e+03  1.24308530e+03  1.25481250e+03\n",
            "  1.25485171e+03 -1.56568615e+02  1.24075112e+03  1.24634235e+03\n",
            "  1.25275859e+03  1.24389899e+03  9.62819921e+01  1.25776114e+03\n",
            "  1.05578017e+03  1.23888952e+03  1.25422328e+03 -1.18131499e+04\n",
            "  1.25349887e+03  1.25629664e+03  1.18008223e+03 -2.40704980e+01\n",
            "  1.25232777e+03  1.25193904e+03  8.80171907e+02  1.24780963e+03\n",
            "  1.25059113e+03  1.24616335e+03  3.91010806e+02  1.22227892e+03\n",
            "  1.25253585e+03  1.25428248e+03  4.35096183e+02  1.25560991e+03\n",
            "  1.25633716e+03  1.23857361e+03 -3.23386844e+05 -9.35975072e+03\n",
            "  1.23733733e+03  1.15069954e+03  1.25425945e+03  1.22419209e+03\n",
            "  1.25369587e+03  1.25844014e+03  1.21245087e+03  1.25645902e+03\n",
            "  1.24402153e+03  1.22676328e+03  2.37161518e+02  1.23331948e+03\n",
            " -1.17478078e+04  1.25456937e+03  1.25519430e+03  1.24877384e+03\n",
            " -2.39231187e+02  1.21115994e+03  1.25506881e+03  1.25328995e+03\n",
            "  1.24739412e+03  1.19935250e+03  1.24524993e+03  1.18952530e+03\n",
            "  1.21928301e+03  1.16008134e+03  1.24432341e+03  1.20852306e+03\n",
            "  1.25148194e+03  1.23623311e+03  1.22879089e+03 -1.58081634e+04\n",
            "  1.23532708e+03  1.25224202e+03  1.14560213e+03  1.23222305e+03\n",
            "  1.25325298e+03 -1.84402076e+02  1.20912129e+03  1.18211652e+03\n",
            "  1.25549524e+03 -1.62003082e+03 -1.18737869e+04  1.22174854e+03\n",
            "  1.25036608e+03 -8.57573411e+02  1.24740016e+03  1.24072394e+03\n",
            "  1.24887154e+03 -2.95945410e+02 -6.11540938e+01  1.24064448e+03\n",
            "  1.25638344e+03  1.11605231e+03  1.25113314e+03  1.25746089e+03\n",
            " -9.88836258e+02  1.22143759e+03  1.25574241e+03  1.25769623e+03\n",
            "  1.25754813e+03  1.23274599e+03  1.22222233e+03  1.24851427e+03\n",
            "  1.25073253e+03  1.24670135e+03  1.25564732e+03  1.23600352e+03\n",
            "  1.15886744e+03  1.24900742e+03  1.23090853e+03  1.24553491e+03\n",
            " -1.01947923e+03  1.23046603e+03  1.12632365e+03  1.23194174e+03\n",
            "  1.13867223e+03  6.26822360e+02  1.25791428e+03 -1.23326992e+02\n",
            "  9.23051587e+02  1.25561242e+03  9.65036366e+02  1.24948508e+03\n",
            "  1.25183367e+03  1.23773498e+03  1.24033142e+03  1.25185253e+03\n",
            "  2.59368951e+02 -1.30390507e+03  1.24594378e+03  1.18416466e+03\n",
            "  1.25206698e+03  1.20613027e+03  9.89132144e+02  1.25119153e+03\n",
            "  1.11967328e+03  1.17223196e+03  1.23742600e+03  1.25601724e+03\n",
            "  1.25017953e+03  1.22249726e+03  1.25429641e+03  1.21528079e+03\n",
            "  1.21532841e+03  1.07782258e+03  1.23336853e+03]\n",
            "(183,)\n"
          ]
        }
      ],
      "source": [
        "# Limpieza de datos: detección de outliers.\n",
        "outlier_method = EllipticEnvelope(random_state = 42).fit(df3)\n",
        "# Obtenemos unos valores de puntuación a nivel de instancia para determinar después las que corresponden con valores atípicos\n",
        "scores_pred = outlier_method.decision_function(df3)\n",
        "print(scores_pred)\n",
        "print(np.shape(scores_pred))"
      ]
    },
    {
      "cell_type": "code",
      "execution_count": null,
      "metadata": {
        "id": "Kr_eIlGrn5mE",
        "outputId": "8af761cf-6025-4801-d8d9-db96b9f3c8c7"
      },
      "outputs": [
        {
          "name": "stdout",
          "output_type": "stream",
          "text": [
            "limite inferior:  837.6343331295288\n",
            "limite superior:  1563.2728138369878\n"
          ]
        },
        {
          "data": {
            "image/png": "[encoded data removed]",
            "text/plain": [
              "<Figure size 432x288 with 1 Axes>"
            ]
          },
          "metadata": {
            "needs_background": "light"
          },
          "output_type": "display_data"
        }
      ],
      "source": [
        "# Seleccionamos manualmente los umbrales a partir de los cuales vamos a determinar qué valores son outliers y cuáles no. \n",
        "Q1 = stats.scoreatpercentile(scores_pred, 25)\n",
        "Q3 = stats.scoreatpercentile(scores_pred, 75)\n",
        "RIC = Q3 - Q1\n",
        "li = Q1 - 3*RIC #xmin\n",
        "ls = Q3 + 3*RIC #xmax\n",
        "\n",
        "print('limite inferior: ', li)\n",
        "print('limite superior: ', ls)\n",
        "\n",
        "import matplotlib.pyplot as plt\n",
        "prop = plt.boxplot(scores_pred)\n",
        "plt.boxplot(scores_pred)\n",
        "plt.show()"
      ]
    },
    {
      "cell_type": "code",
      "execution_count": null,
      "metadata": {
        "id": "CybhW8ZFn5mF",
        "outputId": "c5bd712b-85c1-4e20-8c67-f20674ed7f43"
      },
      "outputs": [
        {
          "name": "stdout",
          "output_type": "stream",
          "text": [
            "Posición de outliers en el extremo inferior:  [  0   3  31  35  45  50  55  59  66  70  74  75  86  88  92 107 113 117\n",
            " 118 121 125 126 132 148 153 155 164 165]\n",
            "Posición de outliers en el extremo superior:  []\n"
          ]
        }
      ],
      "source": [
        "# Estimación de outliers. Encontramos la posición de los outliers dentro de nuestros conjunto de datos\n",
        "pos_i = np.where(scores_pred<li)\n",
        "pos_s = np.where(scores_pred>ls)\n",
        "print('Posición de outliers en el extremo inferior: ', pos_i[0])\n",
        "print('Posición de outliers en el extremo superior: ', pos_s[0])"
      ]
    },
    {
      "cell_type": "code",
      "execution_count": null,
      "metadata": {
        "id": "8X5H_cthn5mG",
        "outputId": "a72864d6-f51e-49a9-e0bd-be073681f2b9"
      },
      "outputs": [
        {
          "name": "stdout",
          "output_type": "stream",
          "text": [
            "(155, 20)\n"
          ]
        }
      ],
      "source": [
        "# Eliminación de outliers\n",
        "dataset_life_np = pd.DataFrame(df3).to_numpy() \n",
        "dataset_life_cleaned = np.delete(dataset_life_np, pos_i[0] ,axis = 0)\n",
        "\n",
        "print(np.shape(dataset_life_cleaned))\n",
        "\n",
        "X_matrix = dataset_life_cleaned[:,:-1]\n",
        "y_matrix = dataset_life_cleaned[:, -1]"
      ]
    },
    {
      "cell_type": "code",
      "execution_count": null,
      "metadata": {
        "id": "5W_eKmiFn5mH",
        "outputId": "ddbb93bf-41e5-4ddd-c0e9-29c6308d681a"
      },
      "outputs": [
        {
          "name": "stdout",
          "output_type": "stream",
          "text": [
            "Tamaño conjunto entrenamiento: (124, 20)\n",
            "Tamaño conjunto test: (31, 20)\n"
          ]
        }
      ],
      "source": [
        "# PARTICIÓN DE DATOS EXTERNA\n",
        "dataset_life_cleaned = pd.DataFrame(dataset_life_cleaned)\n",
        "\n",
        "train, test = train_test_split(dataset_life_cleaned, test_size=0.2, shuffle=True, random_state=42) # hold-out\n",
        "\n",
        "print('Tamaño conjunto entrenamiento:',np.shape(train))\n",
        "print('Tamaño conjunto test:',np.shape(test))\n"
      ]
    },
    {
      "cell_type": "code",
      "execution_count": null,
      "metadata": {
        "id": "VY0m4DXnn5mI"
      },
      "outputs": [],
      "source": [
        "# ESTANDARIZACIÓN DE LOS DATOS\n",
        "\n",
        "# Entrenamiento\n",
        "train = pd.DataFrame(train).to_numpy()\n",
        "X_train = train[:,:-1]\n",
        "y_train = train[:, -1]\n",
        "\n",
        "estandarizador = StandardScaler()\n",
        "estandarizador.fit(X_train)\n",
        "mu = estandarizador.mean_\n",
        "sigma = np.sqrt(estandarizador.var_)\n",
        "X_train = estandarizador.transform(X_train)\n",
        "\n",
        "\n",
        "# Test\n",
        "test = pd.DataFrame(test).to_numpy()\n",
        "X_test = test[:,:-1]\n",
        "y_test = test[:, -1]\n",
        "\n",
        "estandarizador = StandardScaler()\n",
        "estandarizador.fit(X_test)\n",
        "mu = estandarizador.mean_\n",
        "sigma = np.sqrt(estandarizador.var_)\n",
        "X_test = estandarizador.transform(X_test)"
      ]
    },
    {
      "cell_type": "code",
      "execution_count": null,
      "metadata": {
        "id": "konU45iZn5mJ",
        "outputId": "e742a4c3-abc1-490b-b716-e0cd39ada0d2"
      },
      "outputs": [
        {
          "name": "stdout",
          "output_type": "stream",
          "text": [
            "0: no normal  ---- 1: sí normal:  [0. 1. 1. 0. 0. 0. 0. 0. 0. 0. 0. 0. 0. 0. 0. 0. 1. 1. 0.]\n"
          ]
        }
      ],
      "source": [
        "# SELECCIÓN DE LOS ATRIBUTOS\n",
        "\n",
        "# Esta selección se va a realizar estudiando si las variables siguen una distribución normal de media 0 y desviación típica 1 --> N(0,1)\n",
        "alpha = 0.01 # nivel de confianza del 99%\n",
        "h_norm = np.zeros(X_train.shape[1])\n",
        "for i in range(0, X_train.shape[1]):\n",
        "    _, pvalue = kstest(X_train[:, i], 'norm')\n",
        "    \n",
        "    # Contraste de hipótesis\n",
        "    if pvalue<=alpha:\n",
        "        h_norm[i] = 0 # Los datos NO siguen una distribución normal N(0,1)\n",
        "    else:\n",
        "        h_norm[i] = 1 # Los datos SÍ siguen una distribución normal N(0,1)\n",
        "\n",
        "print('0: no normal  ---- 1: sí normal: ', h_norm)"
      ]
    },
    {
      "cell_type": "code",
      "execution_count": null,
      "metadata": {
        "id": "TaYvM6FHn5mK",
        "outputId": "7db374a1-0c0c-4478-c09d-446ceb2a3dc4"
      },
      "outputs": [
        {
          "name": "stderr",
          "output_type": "stream",
          "text": [
            "c:\\users\\fabry\\appdata\\local\\programs\\python\\python39\\lib\\site-packages\\numpy\\lib\\function_base.py:2691: RuntimeWarning: invalid value encountered in true_divide\n",
            "  c /= stddev[:, None]\n",
            "c:\\users\\fabry\\appdata\\local\\programs\\python\\python39\\lib\\site-packages\\numpy\\lib\\function_base.py:2692: RuntimeWarning: invalid value encountered in true_divide\n",
            "  c /= stddev[None, :]\n"
          ]
        },
        {
          "data": {
            "image/png": "[encoded data removed]",
            "text/plain": [
              "<Figure size 432x288 with 1 Axes>"
            ]
          },
          "metadata": {
            "needs_background": "light"
          },
          "output_type": "display_data"
        },
        {
          "name": "stdout",
          "output_type": "stream",
          "text": [
            "[ 9 10 11 12 17]\n"
          ]
        }
      ],
      "source": [
        "# Esta selección se va a realizando mediante un análisis de CORRELACIÓN para ver la dependencia entre pares de variables\n",
        "X_train = pd.DataFrame(X_train)\n",
        "R = np.corrcoef(X_train.transpose())\n",
        "\n",
        "\n",
        "plt.imshow(R, cmap='jet')\n",
        "plt.show()\n",
        "\n",
        "th_cor = 0.9\n",
        "\n",
        "idx = abs(R)>th_cor\n",
        "mat_tri_sup = np.triu(idx,1)\n",
        "# print(mat_tri_sup.astype('uint8'))\n",
        "\n",
        "row, col = np.where(mat_tri_sup==True)\n",
        "id_corr = np.unique(col)\n",
        "print(id_corr)"
      ]
    },
    {
      "cell_type": "code",
      "execution_count": null,
      "metadata": {
        "id": "HK8utxIXn5mL",
        "outputId": "09a42a10-d0ef-4b87-b1e3-af182f003a46"
      },
      "outputs": [
        {
          "name": "stdout",
          "output_type": "stream",
          "text": [
            "(124, 18)\n"
          ]
        }
      ],
      "source": [
        "# Eliminamos las variables correlacionadas\n",
        "#Las varibles correlacionadas son :\n",
        "# >fixed acidity con citric acid (se elimina fixed acidity)\n",
        "# >fixed acidity con density (se elimina fixed acidity)\n",
        "X_train = pd.DataFrame(X_train).to_numpy()\n",
        "\n",
        "X_final = np.delete(X_train, 0, axis=1)\n",
        "mu_final = np.delete(mu, 0)\n",
        "sigma_final = np.delete(sigma, 0)\n",
        "\n",
        "print(np.shape(X_final))"
      ]
    },
    {
      "cell_type": "code",
      "execution_count": null,
      "metadata": {
        "id": "2oSwdcRFn5mL"
      },
      "outputs": [],
      "source": [
        "# Métricas de evaluación.\n",
        "metricas = {\n",
        "  'MAE': 'neg_mean_absolute_error',\n",
        "  'MSE': 'neg_mean_squared_error',\n",
        "  'RMSE': 'neg_root_mean_squared_error',\n",
        "  'R2':   'r2'\n",
        "}"
      ]
    },
    {
      "cell_type": "code",
      "execution_count": null,
      "metadata": {
        "id": "zONaYDaNn5mM",
        "outputId": "81bba15e-94dc-4ed1-8744-ff1e2515d072"
      },
      "outputs": [
        {
          "name": "stdout",
          "output_type": "stream",
          "text": [
            "{'fit_time': array([0.00097942, 0.00096059, 0.00097561, 0.00186634, 0.00095224]),\n",
            " 'score_time': array([0.00194764, 0.00196838, 0.00204015, 0.00099921, 0.00390291]),\n",
            " 'test_MAE': array([-1.5431225 , -1.24269517, -1.93946117, -1.15964312, -1.42076088]),\n",
            " 'test_MSE': array([-4.04023006, -2.29036709, -4.97399168, -2.82299239, -3.41222315]),\n",
            " 'test_R2': array([0.41343931, 0.62465206, 0.34849553, 0.7132998 , 0.28005578]),\n",
            " 'test_RMSE': array([-2.01003235, -1.51339588, -2.23024476, -1.6801763 , -1.84722038])}\n",
            "Model coeficients: \n",
            " [ 0.          1.72857633  0.32491061 -1.84399314  0.12076081 -0.054761\n",
            "  0.74042271  0.06144449  0.4837816   2.22896705  0.59429997 -0.054761\n",
            " -1.01690906  0.09087276  0.08651987  0.07964957 -0.92034085  0.60653964\n",
            "  0.75177668]\n",
            "\n",
            "Término independiente:  13.429838709677417\n"
          ]
        }
      ],
      "source": [
        "# MODELADO\n",
        "\n",
        "## OLS\n",
        "regOLS = linear_model.LinearRegression()\n",
        "\n",
        "# Extraer directamente resultados del error para cada bolsa, en lugar de las predicciones\n",
        "cross_val_results = cross_validate(regOLS, X_final, y_train, \n",
        "                                    cv = KFold(n_splits=5, shuffle=True, random_state=42), scoring=metricas)\n",
        "#print(\"cross_val_MAE:   %0.4f +/- %0.4f\" % (-cross_val_results.mean(), cross_val_results.std()))\n",
        "pprint(cross_val_results)\n",
        "\n",
        "# Entrenamiento con todos los datos para obtener los coeficientes del modelo.\n",
        "modelOLS = regOLS.fit(X_train, y_train)\n",
        "\n",
        "# Obtención de los coeficientes del modelo.\n",
        "w = modelOLS.coef_\n",
        "print('Model coeficients: \\n', w)\n",
        "\n",
        "# Obtención del término independiente del modelo.\n",
        "w_0 = modelOLS.intercept_\n",
        "print('\\nTérmino independiente: ', w_0)\n",
        "\n",
        "\n",
        "## KNN\n",
        "k = 10\n",
        "regKNN = KNeighborsRegressor(n_neighbors = k, weights='uniform', metric='euclidean')\n",
        "modelKNN = regKNN.fit(X_train, y_train)"
      ]
    },
    {
      "cell_type": "code",
      "execution_count": null,
      "metadata": {
        "id": "h-TFKUr_n5mM",
        "outputId": "1643caa7-0f7f-4bd0-f9ca-bf543fb327a1"
      },
      "outputs": [
        {
          "name": "stdout",
          "output_type": "stream",
          "text": [
            "Algoritmo OLS\n",
            "MAE:  1.7160\n",
            "MSE:  5.0316\n",
            "RMSE: 2.2431\n",
            "R2:   0.4637\n"
          ]
        },
        {
          "data": {
            "image/png": "[encoded data removed]",
            "text/plain": [
              "<Figure size 432x288 with 1 Axes>"
            ]
          },
          "metadata": {
            "needs_background": "light"
          },
          "output_type": "display_data"
        },
        {
          "name": "stdout",
          "output_type": "stream",
          "text": [
            "-----------------------------------------------------------\n",
            "Algoritmo KNN\n",
            "MAE:  1.8323\n",
            "MSE:  5.5580\n",
            "RMSE: 2.3575\n",
            "R2:   0.4076\n"
          ]
        },
        {
          "data": {
            "image/png": "[encoded data removed]",
            "text/plain": [
              "<Figure size 432x288 with 1 Axes>"
            ]
          },
          "metadata": {
            "needs_background": "light"
          },
          "output_type": "display_data"
        }
      ],
      "source": [
        "# PREDICCIÓN\n",
        "\n",
        "## OLS\n",
        "# Predicción del conjunto de test\n",
        "y_pred_testOLS = modelOLS.predict(X_test)\n",
        "#print(y_pred_testOLS)\n",
        "\n",
        "# Cálculo de las métricas de evaluación.\n",
        "MAE_OLS = metrics.mean_absolute_error(y_test, y_pred_testOLS)\n",
        "MSE_OLS = metrics.mean_squared_error(y_test, y_pred_testOLS, squared=True)\n",
        "RMSE_OLS = metrics.mean_squared_error(y_test, y_pred_testOLS, squared=False)\n",
        "R2_OLS = metrics.r2_score(y_test, y_pred_testOLS)\n",
        "\n",
        "print('Algoritmo OLS')\n",
        "print('MAE:  %.4f' % MAE_OLS)\n",
        "print('MSE:  %.4f' % MSE_OLS)\n",
        "print('RMSE: %.4f' % RMSE_OLS)\n",
        "print('R2:   %.4f' % R2_OLS)\n",
        "\n",
        "# Gráfica de realidad vs. predicción.\n",
        "fig, ax = plt.subplots()\n",
        "ax.scatter(y_test, y_pred_testOLS, edgecolors=(0, 0, 0))\n",
        "ax.plot([y_matrix.min(), y_matrix.max()], [y_matrix.min(), y_matrix.max()], 'k--', lw=4)\n",
        "ax.set_xlabel('Valor real de la clase')\n",
        "ax.set_ylabel('Predicción')\n",
        "plt.title(\"MAE: %.3f  MSE: %.3f   RMSE: %.3f  R2: %.3f\" %\n",
        "          (MAE_OLS, MSE_OLS, RMSE_OLS, R2_OLS))\n",
        "plt.grid()\n",
        "plt.show()\n",
        "\n",
        "\n",
        "## KNN\n",
        "y_pred_testKNN = modelKNN.predict(X_test)\n",
        "\n",
        "# Cálculo de las métricas de evaluación.\n",
        "MAE_KNN = metrics.mean_absolute_error(y_test, y_pred_testKNN)\n",
        "MSE_KNN = metrics.mean_squared_error(y_test, y_pred_testKNN, squared=True)\n",
        "RMSE_KNN = metrics.mean_squared_error(y_test, y_pred_testKNN, squared=False)\n",
        "R2_KNN = metrics.r2_score(y_test, y_pred_testKNN)\n",
        "\n",
        "print('-----------------------------------------------------------')\n",
        "print('Algoritmo KNN')\n",
        "print('MAE:  %.4f' % MAE_KNN)\n",
        "print('MSE:  %.4f' % MSE_KNN)\n",
        "print('RMSE: %.4f' % RMSE_KNN)\n",
        "print('R2:   %.4f' % R2_KNN)\n",
        "\n",
        "# Gráfica de realidad vs. predicción.\n",
        "fig, ax = plt.subplots()\n",
        "ax.scatter(y_test, y_pred_testKNN, edgecolors=(0, 0, 0))\n",
        "ax.plot([y_matrix.min(), y_matrix.max()], [y_matrix.min(), y_matrix.max()], 'k--', lw=4)\n",
        "ax.set_xlabel('Valor real de la clase')\n",
        "ax.set_ylabel('Predicción')\n",
        "plt.title(\"MAE: %.3f  MSE: %.3f   RMSE: %.3f  R2: %.3f\" %\n",
        "          (MAE_KNN, MSE_KNN, RMSE_KNN, R2_KNN))\n",
        "plt.grid()\n",
        "plt.show()"
      ]
    },
    {
      "cell_type": "markdown",
      "metadata": {
        "id": "11cVooAwn5mN"
      },
      "source": [
        "Resultado\n",
        "\n",
        "Las metricas obtenidas en los dos algoritmos son similares, pero con con menor error es el algoritmos OLS y con K vecinos son muy alejados.\n",
        "\n",
        "Sepodría mejorar el dataset para tomando todos los años de cada país pero se debe tratar de diferente manera el dataset, por motivos de simplificar el cálculo se ha tomado en cuenta solo un año de cada país y el promedio de vida es 71 hasta el 2015."
      ]
    },
    {
      "cell_type": "code",
      "execution_count": null,
      "metadata": {
        "id": "SVJsOseGn5mN"
      },
      "outputs": [],
      "source": [
        ""
      ]
    }
  ],
  "metadata": {
    "kernelspec": {
      "display_name": "Python 3 (ipykernel)",
      "language": "python",
      "name": "python3"
    },
    "language_info": {
      "codemirror_mode": {
        "name": "ipython",
        "version": 3
      },
      "file_extension": ".py",
      "mimetype": "text/x-python",
      "name": "python",
      "nbconvert_exporter": "python",
      "pygments_lexer": "ipython3",
      "version": "3.9.6"
    },
    "colab": {
      "name": "Actividad_C1_P2 (1) (2).ipynb",
      "provenance": [],
      "include_colab_link": true
    }
  },
  "nbformat": 4,
  "nbformat_minor": 0
}